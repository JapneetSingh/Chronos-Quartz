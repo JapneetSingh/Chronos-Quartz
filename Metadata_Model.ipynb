{
 "cells": [
  {
   "cell_type": "code",
   "execution_count": 341,
   "metadata": {
    "collapsed": true
   },
   "outputs": [],
   "source": [
    "from pymongo import MongoClient\n",
    "import pandas as pd\n",
    "import numpy as np\n",
    "from sklearn.feature_extraction.text import TfidfVectorizer"
   ]
  },
  {
   "cell_type": "markdown",
   "metadata": {},
   "source": [
    "## Connecting to existing database and table within the database"
   ]
  },
  {
   "cell_type": "code",
   "execution_count": 6,
   "metadata": {
    "collapsed": true
   },
   "outputs": [],
   "source": [
    "client = MongoClient()"
   ]
  },
  {
   "cell_type": "code",
   "execution_count": 7,
   "metadata": {
    "collapsed": true
   },
   "outputs": [],
   "source": [
    "\n",
    "db = client.images2\n",
    "collection= db.image_data"
   ]
  },
  {
   "cell_type": "code",
   "execution_count": 8,
   "metadata": {
    "collapsed": false
   },
   "outputs": [
    {
     "name": "stdout",
     "output_type": "stream",
     "text": [
      "Database(MongoClient(host=['localhost:27017'], document_class=dict, tz_aware=False, connect=True), u'images2')\n",
      "Collection(Database(MongoClient(host=['localhost:27017'], document_class=dict, tz_aware=False, connect=True), u'images2'), u'image_data')\n"
     ]
    }
   ],
   "source": [
    "print db\n",
    "print collection"
   ]
  },
  {
   "cell_type": "markdown",
   "metadata": {},
   "source": [
    "## Test connection"
   ]
  },
  {
   "cell_type": "code",
   "execution_count": 9,
   "metadata": {
    "collapsed": false
   },
   "outputs": [
    {
     "name": "stdout",
     "output_type": "stream",
     "text": [
      "Invicta Men's 8932 Pro Diver Collection Silver-Tone Watch\n"
     ]
    }
   ],
   "source": [
    "#Testing retreving data from Mongodb. Imp for when an img-no doesnt exist\n",
    "cur = collection.find({'img_no':29},{'_id':0,'img_no':1,'prod_info_table':1,'prod_desc':1,\"title\":1})\n",
    "cur.rewind()\n",
    "\n",
    "try:\n",
    "    print (cur)[0]['title']\n",
    "except:\n",
    "    print \"Not readable error\"\n",
    "    "
   ]
  },
  {
   "cell_type": "code",
   "execution_count": 10,
   "metadata": {
    "collapsed": false
   },
   "outputs": [
    {
     "data": {
      "text/plain": [
       "u'Big, bold and masculine, the Invicta Quartz Pro Diver 8932 is an affordable luxury watch with classically styled features. This precisely constructed quartz timepiece for men features a solid stainless steel case that\\'s 37mm wide, slightly smaller than its 8926 cousin. It has a black face with Tritnite luminous hands and markers and a unidirectional black bezel with white numerals and markings. Other features include anti-reflective mineral crystal, date display at 3 o\\'clock, and water resistance to 200 meters. The highly polished stainless steel band has a diver buckle with safety clasp.Pro Diver Collection Plunge into any horizon using the steadfast guidance of the Invicta Pro Diver. Stylishly classic, internal workings are forged with variations of either Swiss chronograph or 21-jewel automatic movements and willingly navigate in depths up to 300 meters. Built with confident prowess, the fortitude with which these timepieces function makes the Pro Diver the quintessential in performance.\\n\\n With its most inspired creations yet, Invicta demonstrates its technical and design prowess, offering timepieces of style for extreme value.\"We have long held firm to the belief that supremely crafted timepieces can be offered for extremely modest sums. It is the founding principle of our flagship and the radical notion that still drives us today. By being true to our convictions, we will continue to turn the balance of power, and deliver true Swiss luxury to anyone who desires it. Let all those who possess our timepieces and pass through our doors witness the quality, value and care in every piece we create, and the spirit of never-ending possibilities in everything we do.\"These are the words that greet visitors and motivate team members inside the Invicta Watch Group\\'s new worldwide headquarters. Emblazoned in stainless steel, it has been the Invicta message since Day One. With each new timepiece, the company sends up a flare for those looking to be defined not by how much they spend, but how wisely they spend. With its strong collections, the gutsy Swiss brand is guaranteed to keep attracting followers. It takes years of training and a great deal of pride to achieve glorious Swiss timepieces by hand. But it takes guts and the courage of your convictions to make those timepieces affordable for everyone who appreciates them. At our Swiss workshops, we mix time-honored traditions with a little bit of horse sense every single day to produce the greatest values in the watch-making world.'"
      ]
     },
     "execution_count": 10,
     "metadata": {},
     "output_type": "execute_result"
    }
   ],
   "source": [
    "cur[0]['prod_desc']"
   ]
  },
  {
   "cell_type": "markdown",
   "metadata": {},
   "source": [
    "## Getting the information from MongoDB"
   ]
  },
  {
   "cell_type": "code",
   "execution_count": 12,
   "metadata": {
    "collapsed": false
   },
   "outputs": [],
   "source": [
    "#total number of docs in collections\n",
    "total_docs = collection.count()"
   ]
  },
  {
   "cell_type": "code",
   "execution_count": 13,
   "metadata": {
    "collapsed": false
   },
   "outputs": [],
   "source": [
    "#getting the data(img_no and prod_info_table) out of Mongodb\n",
    "#5940 is the max img_no known through looking at data\n",
    "prod_desc_table = []\n",
    "\n",
    "for i in xrange(5940):\n",
    "    cursor = collection.find({'img_no':i},{'_id':0,'img_no':1,'prod_info_table':1,'prod_desc':1,'title':1})\n",
    "    #print cursor[0]\n",
    "    cursor.rewind()\n",
    "    try: \n",
    "        #We do cursor of 0 because cursor only has 1 result a dictionary. \n",
    "        #We are adding the img_no as another feature in the prod_info_table dictionary\n",
    "        #This is to keep track of the image number for each row . Will be used in retirving the results when we know th\n",
    "        #nearest neigbours for the model. We also add product description and title for future TFIDF\n",
    "        #print cursor[0]    \n",
    "        prod_dict = cursor[0][\"prod_info_table\"]\n",
    "        \n",
    "        #Insert the three in the exsiting dictionary to get one comprehensive dict for dataframe\n",
    "        prod_dict['Img_no'] = cursor[0][\"img_no\"]\n",
    "        prod_dict['Prod_description'] = cursor[0][\"prod_desc\"]\n",
    "        prod_dict['Prod_title'] = cursor[0][\"title\"]\n",
    "        prod_desc_table.append(prod_dict)\n",
    "    \n",
    "        \n",
    "    except:\n",
    "        pass # Some number might not exist in between due to broken links while scraping. \n",
    "        #This will ensure we move to the next image number without raising an error in that case"
   ]
  },
  {
   "cell_type": "code",
   "execution_count": 15,
   "metadata": {
    "collapsed": false
   },
   "outputs": [
    {
     "data": {
      "text/plain": [
       "4957"
      ]
     },
     "execution_count": 15,
     "metadata": {},
     "output_type": "execute_result"
    }
   ],
   "source": [
    "len(prod_desc_table)"
   ]
  },
  {
   "cell_type": "markdown",
   "metadata": {},
   "source": [
    "##  Pandas dataframe and EDA"
   ]
  },
  {
   "cell_type": "markdown",
   "metadata": {},
   "source": [
    "### Loading dictionary to pandas dataframe"
   ]
  },
  {
   "cell_type": "code",
   "execution_count": 206,
   "metadata": {
    "collapsed": false
   },
   "outputs": [],
   "source": [
    "df = pd.DataFrame(prod_desc_table)"
   ]
  },
  {
   "cell_type": "code",
   "execution_count": 207,
   "metadata": {
    "collapsed": false
   },
   "outputs": [
    {
     "data": {
      "text/plain": [
       "29"
      ]
     },
     "execution_count": 207,
     "metadata": {},
     "output_type": "execute_result"
    }
   ],
   "source": [
    "len(df.columns)"
   ]
  },
  {
   "cell_type": "code",
   "execution_count": 208,
   "metadata": {
    "collapsed": false
   },
   "outputs": [
    {
     "data": {
      "text/plain": [
       "Index([                       u'Band Color',\n",
       "                           u'Band Material',\n",
       "                             u'Band length',\n",
       "                              u'Band width',\n",
       "                     u'Battery description',\n",
       "                          u'Bezel material',\n",
       "       u'Brand, Seller, or Collection Name',\n",
       "                          u'Case Thickness',\n",
       "                           u'Case diameter',\n",
       "                           u'Case material',\n",
       "                                   u'Clasp',\n",
       "                              u'Dial color',\n",
       "                            u'Display Type',\n",
       "                                  u'Height',\n",
       "                                  u'Img_no',\n",
       "                             u'Item Length',\n",
       "                              u'Item Shape',\n",
       "                             u'Item weight',\n",
       "                                  u'Length',\n",
       "                                u'Material',\n",
       "                             u'Metal stamp',\n",
       "                              u'Model Year',\n",
       "                            u'Model number',\n",
       "                             u'Part Number',\n",
       "                        u'Prod_description',\n",
       "                              u'Prod_title',\n",
       "                        u'Special features',\n",
       "               u'Water pressure resistance',\n",
       "                   u'Water resistant depth'],\n",
       "      dtype='object')"
      ]
     },
     "execution_count": 208,
     "metadata": {},
     "output_type": "execute_result"
    }
   ],
   "source": [
    "df.columns"
   ]
  },
  {
   "cell_type": "code",
   "execution_count": 102,
   "metadata": {
    "collapsed": false
   },
   "outputs": [
    {
     "data": {
      "text/html": [
       "<div>\n",
       "<table border=\"1\" class=\"dataframe\">\n",
       "  <thead>\n",
       "    <tr style=\"text-align: right;\">\n",
       "      <th></th>\n",
       "      <th>Band Color</th>\n",
       "      <th>Band Material</th>\n",
       "      <th>Band length</th>\n",
       "      <th>Band width</th>\n",
       "      <th>Battery description</th>\n",
       "      <th>Bezel material</th>\n",
       "      <th>Brand, Seller, or Collection Name</th>\n",
       "      <th>Case Thickness</th>\n",
       "      <th>Case diameter</th>\n",
       "      <th>Case material</th>\n",
       "    </tr>\n",
       "  </thead>\n",
       "  <tbody>\n",
       "    <tr>\n",
       "      <th>0</th>\n",
       "      <td>Black</td>\n",
       "      <td>Resin</td>\n",
       "      <td>Men's Standard</td>\n",
       "      <td>22 millimeters</td>\n",
       "      <td>NaN</td>\n",
       "      <td>Resin</td>\n",
       "      <td>Casio</td>\n",
       "      <td>12 millimeters</td>\n",
       "      <td>43 millimeters</td>\n",
       "      <td>Resin</td>\n",
       "    </tr>\n",
       "    <tr>\n",
       "      <th>1</th>\n",
       "      <td>Black</td>\n",
       "      <td>Calfskin</td>\n",
       "      <td>Mens Standard</td>\n",
       "      <td>18 millimeters</td>\n",
       "      <td>NaN</td>\n",
       "      <td>Brass</td>\n",
       "      <td>Timex</td>\n",
       "      <td>8 millimeters</td>\n",
       "      <td>35 millimeters</td>\n",
       "      <td>Brass</td>\n",
       "    </tr>\n",
       "    <tr>\n",
       "      <th>2</th>\n",
       "      <td>Black</td>\n",
       "      <td>Resin</td>\n",
       "      <td>mens</td>\n",
       "      <td>18 millimeters</td>\n",
       "      <td>NaN</td>\n",
       "      <td>Plastic</td>\n",
       "      <td>Casio</td>\n",
       "      <td>8 millimeters</td>\n",
       "      <td>35 millimeters</td>\n",
       "      <td>Plastic</td>\n",
       "    </tr>\n",
       "    <tr>\n",
       "      <th>3</th>\n",
       "      <td>Black</td>\n",
       "      <td>Resin</td>\n",
       "      <td>mens</td>\n",
       "      <td>20 millimeters</td>\n",
       "      <td>NaN</td>\n",
       "      <td>Resin</td>\n",
       "      <td>Casio</td>\n",
       "      <td>7.8 millimeters</td>\n",
       "      <td>35 millimeters</td>\n",
       "      <td>Resin</td>\n",
       "    </tr>\n",
       "    <tr>\n",
       "      <th>4</th>\n",
       "      <td>Biege</td>\n",
       "      <td>Nylon</td>\n",
       "      <td>Mens-Standard</td>\n",
       "      <td>20 millimeters</td>\n",
       "      <td>NaN</td>\n",
       "      <td>Stainless Steel</td>\n",
       "      <td>Casio</td>\n",
       "      <td>11 millimeters</td>\n",
       "      <td>41 millimeters</td>\n",
       "      <td>Resin</td>\n",
       "    </tr>\n",
       "  </tbody>\n",
       "</table>\n",
       "</div>"
      ],
      "text/plain": [
       "  Band Color Band Material     Band length      Band width  \\\n",
       "0      Black         Resin  Men's Standard  22 millimeters   \n",
       "1      Black      Calfskin   Mens Standard  18 millimeters   \n",
       "2      Black         Resin            mens  18 millimeters   \n",
       "3      Black         Resin            mens  20 millimeters   \n",
       "4      Biege         Nylon   Mens-Standard  20 millimeters   \n",
       "\n",
       "  Battery description   Bezel material Brand, Seller, or Collection Name  \\\n",
       "0                 NaN            Resin                             Casio   \n",
       "1                 NaN            Brass                             Timex   \n",
       "2                 NaN          Plastic                             Casio   \n",
       "3                 NaN            Resin                             Casio   \n",
       "4                 NaN  Stainless Steel                             Casio   \n",
       "\n",
       "    Case Thickness   Case diameter Case material  \n",
       "0   12 millimeters  43 millimeters         Resin  \n",
       "1    8 millimeters  35 millimeters         Brass  \n",
       "2    8 millimeters  35 millimeters       Plastic  \n",
       "3  7.8 millimeters  35 millimeters         Resin  \n",
       "4   11 millimeters  41 millimeters         Resin  "
      ]
     },
     "execution_count": 102,
     "metadata": {},
     "output_type": "execute_result"
    }
   ],
   "source": [
    "df.iloc[:,:10].head()"
   ]
  },
  {
   "cell_type": "code",
   "execution_count": 209,
   "metadata": {
    "collapsed": false
   },
   "outputs": [
    {
     "data": {
      "text/html": [
       "<div>\n",
       "<table border=\"1\" class=\"dataframe\">\n",
       "  <thead>\n",
       "    <tr style=\"text-align: right;\">\n",
       "      <th></th>\n",
       "      <th>Clasp</th>\n",
       "      <th>Dial color</th>\n",
       "      <th>Display Type</th>\n",
       "      <th>Height</th>\n",
       "      <th>Img_no</th>\n",
       "      <th>Item Length</th>\n",
       "      <th>Item Shape</th>\n",
       "      <th>Item weight</th>\n",
       "      <th>Length</th>\n",
       "      <th>Material</th>\n",
       "    </tr>\n",
       "  </thead>\n",
       "  <tbody>\n",
       "    <tr>\n",
       "      <th>0</th>\n",
       "      <td>Buckle</td>\n",
       "      <td>Black</td>\n",
       "      <td>Analog</td>\n",
       "      <td>NaN</td>\n",
       "      <td>0</td>\n",
       "      <td>NaN</td>\n",
       "      <td>Round</td>\n",
       "      <td>2.08 Ounces</td>\n",
       "      <td>NaN</td>\n",
       "      <td>NaN</td>\n",
       "    </tr>\n",
       "    <tr>\n",
       "      <th>1</th>\n",
       "      <td>Buckle</td>\n",
       "      <td>White</td>\n",
       "      <td>Analog</td>\n",
       "      <td>NaN</td>\n",
       "      <td>1</td>\n",
       "      <td>NaN</td>\n",
       "      <td>Round</td>\n",
       "      <td>1.44 Ounces</td>\n",
       "      <td>NaN</td>\n",
       "      <td>NaN</td>\n",
       "    </tr>\n",
       "    <tr>\n",
       "      <th>2</th>\n",
       "      <td>Buckle</td>\n",
       "      <td>White</td>\n",
       "      <td>Analog</td>\n",
       "      <td>NaN</td>\n",
       "      <td>2</td>\n",
       "      <td>NaN</td>\n",
       "      <td>Round</td>\n",
       "      <td>18.14 Grams</td>\n",
       "      <td>NaN</td>\n",
       "      <td>NaN</td>\n",
       "    </tr>\n",
       "    <tr>\n",
       "      <th>3</th>\n",
       "      <td>Buckle</td>\n",
       "      <td>White</td>\n",
       "      <td>Analog</td>\n",
       "      <td>NaN</td>\n",
       "      <td>3</td>\n",
       "      <td>NaN</td>\n",
       "      <td>Round</td>\n",
       "      <td>NaN</td>\n",
       "      <td>NaN</td>\n",
       "      <td>NaN</td>\n",
       "    </tr>\n",
       "    <tr>\n",
       "      <th>4</th>\n",
       "      <td>Buckle</td>\n",
       "      <td>Beige</td>\n",
       "      <td>Analog</td>\n",
       "      <td>NaN</td>\n",
       "      <td>4</td>\n",
       "      <td>NaN</td>\n",
       "      <td>Round</td>\n",
       "      <td>16 Ounces</td>\n",
       "      <td>NaN</td>\n",
       "      <td>NaN</td>\n",
       "    </tr>\n",
       "  </tbody>\n",
       "</table>\n",
       "</div>"
      ],
      "text/plain": [
       "    Clasp Dial color Display Type Height  Img_no Item Length Item Shape  \\\n",
       "0  Buckle      Black       Analog    NaN       0         NaN      Round   \n",
       "1  Buckle      White       Analog    NaN       1         NaN      Round   \n",
       "2  Buckle      White       Analog    NaN       2         NaN      Round   \n",
       "3  Buckle      White       Analog    NaN       3         NaN      Round   \n",
       "4  Buckle      Beige       Analog    NaN       4         NaN      Round   \n",
       "\n",
       "   Item weight Length Material  \n",
       "0  2.08 Ounces    NaN      NaN  \n",
       "1  1.44 Ounces    NaN      NaN  \n",
       "2  18.14 Grams    NaN      NaN  \n",
       "3          NaN    NaN      NaN  \n",
       "4    16 Ounces    NaN      NaN  "
      ]
     },
     "execution_count": 209,
     "metadata": {},
     "output_type": "execute_result"
    }
   ],
   "source": [
    "df.iloc[:,10:20].head()"
   ]
  },
  {
   "cell_type": "code",
   "execution_count": 210,
   "metadata": {
    "collapsed": false,
    "scrolled": true
   },
   "outputs": [
    {
     "data": {
      "text/html": [
       "<div>\n",
       "<table border=\"1\" class=\"dataframe\">\n",
       "  <thead>\n",
       "    <tr style=\"text-align: right;\">\n",
       "      <th></th>\n",
       "      <th>Metal stamp</th>\n",
       "      <th>Model Year</th>\n",
       "      <th>Model number</th>\n",
       "      <th>Part Number</th>\n",
       "      <th>Prod_description</th>\n",
       "      <th>Prod_title</th>\n",
       "      <th>Special features</th>\n",
       "      <th>Water pressure resistance</th>\n",
       "      <th>Water resistant depth</th>\n",
       "    </tr>\n",
       "  </thead>\n",
       "  <tbody>\n",
       "    <tr>\n",
       "      <th>0</th>\n",
       "      <td>NaN</td>\n",
       "      <td>2014</td>\n",
       "      <td>MRW200H-1BV</td>\n",
       "      <td>MRW200H-1BV</td>\n",
       "      <td>This watch from Casio is water resistant up to...</td>\n",
       "      <td>Casio Men's MRW200H-1BCT</td>\n",
       "      <td>Water Resistant</td>\n",
       "      <td>NaN</td>\n",
       "      <td>330 Feet</td>\n",
       "    </tr>\n",
       "    <tr>\n",
       "      <th>1</th>\n",
       "      <td>NaN</td>\n",
       "      <td>2009</td>\n",
       "      <td>T2H281</td>\n",
       "      <td>T2H2819J</td>\n",
       "      <td>Not available</td>\n",
       "      <td>Timex Men's Easy Reader Watch</td>\n",
       "      <td>measures-seconds, Light</td>\n",
       "      <td>NaN</td>\n",
       "      <td>99 Feet</td>\n",
       "    </tr>\n",
       "    <tr>\n",
       "      <th>2</th>\n",
       "      <td>NaN</td>\n",
       "      <td>2014</td>\n",
       "      <td>MQ24-7B2</td>\n",
       "      <td>MQ24-7B2</td>\n",
       "      <td>Splash Resistant / Round White Face / Black Re...</td>\n",
       "      <td>Casio Men's MQ24-7B2 Analog Watch with Black R...</td>\n",
       "      <td>Water Resistant</td>\n",
       "      <td>NaN</td>\n",
       "      <td>NaN</td>\n",
       "    </tr>\n",
       "    <tr>\n",
       "      <th>3</th>\n",
       "      <td>NaN</td>\n",
       "      <td>NaN</td>\n",
       "      <td>MQ24-7B</td>\n",
       "      <td>MQ24-7B</td>\n",
       "      <td>The basic black-and-white design of the Casio ...</td>\n",
       "      <td>Casio Unisex MQ24-7B Analog Black Resin Watch</td>\n",
       "      <td>Water Resistant</td>\n",
       "      <td>NaN</td>\n",
       "      <td>50</td>\n",
       "    </tr>\n",
       "    <tr>\n",
       "      <th>4</th>\n",
       "      <td>NaN</td>\n",
       "      <td>2014</td>\n",
       "      <td>FT-500WC-5BVCF</td>\n",
       "      <td>FT-500WC-5BVCF</td>\n",
       "      <td>This watch from the Forester collection featur...</td>\n",
       "      <td>Casio Men's FT500WVB-5BV</td>\n",
       "      <td>Luminous</td>\n",
       "      <td>NaN</td>\n",
       "      <td>330 Feet</td>\n",
       "    </tr>\n",
       "  </tbody>\n",
       "</table>\n",
       "</div>"
      ],
      "text/plain": [
       "  Metal stamp Model Year    Model number     Part Number  \\\n",
       "0         NaN       2014     MRW200H-1BV     MRW200H-1BV   \n",
       "1         NaN       2009          T2H281        T2H2819J   \n",
       "2         NaN       2014        MQ24-7B2        MQ24-7B2   \n",
       "3         NaN        NaN         MQ24-7B         MQ24-7B   \n",
       "4         NaN       2014  FT-500WC-5BVCF  FT-500WC-5BVCF   \n",
       "\n",
       "                                    Prod_description  \\\n",
       "0  This watch from Casio is water resistant up to...   \n",
       "1                                      Not available   \n",
       "2  Splash Resistant / Round White Face / Black Re...   \n",
       "3  The basic black-and-white design of the Casio ...   \n",
       "4  This watch from the Forester collection featur...   \n",
       "\n",
       "                                          Prod_title         Special features  \\\n",
       "0                           Casio Men's MRW200H-1BCT          Water Resistant   \n",
       "1                      Timex Men's Easy Reader Watch  measures-seconds, Light   \n",
       "2  Casio Men's MQ24-7B2 Analog Watch with Black R...          Water Resistant   \n",
       "3      Casio Unisex MQ24-7B Analog Black Resin Watch          Water Resistant   \n",
       "4                           Casio Men's FT500WVB-5BV                 Luminous   \n",
       "\n",
       "  Water pressure resistance Water resistant depth  \n",
       "0                       NaN              330 Feet  \n",
       "1                       NaN               99 Feet  \n",
       "2                       NaN                   NaN  \n",
       "3                       NaN                    50  \n",
       "4                       NaN              330 Feet  "
      ]
     },
     "execution_count": 210,
     "metadata": {},
     "output_type": "execute_result"
    }
   ],
   "source": [
    "df.iloc[:,20:].head()"
   ]
  },
  {
   "cell_type": "markdown",
   "metadata": {},
   "source": [
    "### Cleaning data"
   ]
  },
  {
   "cell_type": "code",
   "execution_count": 211,
   "metadata": {
    "collapsed": false,
    "scrolled": true
   },
   "outputs": [
    {
     "data": {
      "text/plain": [
       "Band Color                             83\n",
       "Band Material                          33\n",
       "Band length                           197\n",
       "Band width                             72\n",
       "Battery description                  4956\n",
       "Bezel material                        331\n",
       "Brand, Seller, or Collection Name       0\n",
       "Case Thickness                        105\n",
       "Case diameter                          29\n",
       "Case material                         119\n",
       "Clasp                                1768\n",
       "Dial color                             21\n",
       "Display Type                           72\n",
       "Height                               4956\n",
       "Img_no                                  0\n",
       "Item Length                          4955\n",
       "Item Shape                             73\n",
       "Item weight                          2617\n",
       "Length                               4956\n",
       "Material                             4955\n",
       "Metal stamp                          4460\n",
       "Model Year                           1780\n",
       "Model number                           34\n",
       "Part Number                             6\n",
       "Prod_description                        0\n",
       "Prod_title                              0\n",
       "Special features                     1342\n",
       "Water pressure resistance            4956\n",
       "Water resistant depth                 267\n",
       "dtype: int64"
      ]
     },
     "execution_count": 211,
     "metadata": {},
     "output_type": "execute_result"
    }
   ],
   "source": [
    "df.isnull().sum(axis =0)"
   ]
  },
  {
   "cell_type": "code",
   "execution_count": 212,
   "metadata": {
    "collapsed": false
   },
   "outputs": [],
   "source": [
    "# Anything with more than 50% null values is dropped immediately \n",
    "df.drop(['Battery description','Water pressure resistance','Material','Height','Item Length','Metal stamp','Length','Item weight'],axis =1,inplace = True)"
   ]
  },
  {
   "cell_type": "code",
   "execution_count": 213,
   "metadata": {
    "collapsed": false
   },
   "outputs": [
    {
     "data": {
      "text/plain": [
       "(4957, 21)"
      ]
     },
     "execution_count": 213,
     "metadata": {},
     "output_type": "execute_result"
    }
   ],
   "source": [
    "df.shape"
   ]
  },
  {
   "cell_type": "code",
   "execution_count": 214,
   "metadata": {
    "collapsed": false
   },
   "outputs": [
    {
     "data": {
      "text/html": [
       "<div>\n",
       "<table border=\"1\" class=\"dataframe\">\n",
       "  <thead>\n",
       "    <tr style=\"text-align: right;\">\n",
       "      <th></th>\n",
       "      <th>Band Color</th>\n",
       "      <th>Band Material</th>\n",
       "      <th>Band length</th>\n",
       "      <th>Band width</th>\n",
       "      <th>Bezel material</th>\n",
       "      <th>Brand, Seller, or Collection Name</th>\n",
       "      <th>Case Thickness</th>\n",
       "      <th>Case diameter</th>\n",
       "      <th>Case material</th>\n",
       "      <th>Clasp</th>\n",
       "      <th>...</th>\n",
       "      <th>Display Type</th>\n",
       "      <th>Img_no</th>\n",
       "      <th>Item Shape</th>\n",
       "      <th>Model Year</th>\n",
       "      <th>Model number</th>\n",
       "      <th>Part Number</th>\n",
       "      <th>Prod_description</th>\n",
       "      <th>Prod_title</th>\n",
       "      <th>Special features</th>\n",
       "      <th>Water resistant depth</th>\n",
       "    </tr>\n",
       "  </thead>\n",
       "  <tbody>\n",
       "    <tr>\n",
       "      <th>0</th>\n",
       "      <td>Black</td>\n",
       "      <td>Resin</td>\n",
       "      <td>Men's Standard</td>\n",
       "      <td>22 millimeters</td>\n",
       "      <td>Resin</td>\n",
       "      <td>Casio</td>\n",
       "      <td>12 millimeters</td>\n",
       "      <td>43 millimeters</td>\n",
       "      <td>Resin</td>\n",
       "      <td>Buckle</td>\n",
       "      <td>...</td>\n",
       "      <td>Analog</td>\n",
       "      <td>0</td>\n",
       "      <td>Round</td>\n",
       "      <td>2014</td>\n",
       "      <td>MRW200H-1BV</td>\n",
       "      <td>MRW200H-1BV</td>\n",
       "      <td>This watch from Casio is water resistant up to...</td>\n",
       "      <td>Casio Men's MRW200H-1BCT</td>\n",
       "      <td>Water Resistant</td>\n",
       "      <td>330 Feet</td>\n",
       "    </tr>\n",
       "    <tr>\n",
       "      <th>1</th>\n",
       "      <td>Black</td>\n",
       "      <td>Calfskin</td>\n",
       "      <td>Mens Standard</td>\n",
       "      <td>18 millimeters</td>\n",
       "      <td>Brass</td>\n",
       "      <td>Timex</td>\n",
       "      <td>8 millimeters</td>\n",
       "      <td>35 millimeters</td>\n",
       "      <td>Brass</td>\n",
       "      <td>Buckle</td>\n",
       "      <td>...</td>\n",
       "      <td>Analog</td>\n",
       "      <td>1</td>\n",
       "      <td>Round</td>\n",
       "      <td>2009</td>\n",
       "      <td>T2H281</td>\n",
       "      <td>T2H2819J</td>\n",
       "      <td>Not available</td>\n",
       "      <td>Timex Men's Easy Reader Watch</td>\n",
       "      <td>measures-seconds, Light</td>\n",
       "      <td>99 Feet</td>\n",
       "    </tr>\n",
       "  </tbody>\n",
       "</table>\n",
       "<p>2 rows × 21 columns</p>\n",
       "</div>"
      ],
      "text/plain": [
       "  Band Color Band Material     Band length      Band width Bezel material  \\\n",
       "0      Black         Resin  Men's Standard  22 millimeters          Resin   \n",
       "1      Black      Calfskin   Mens Standard  18 millimeters          Brass   \n",
       "\n",
       "  Brand, Seller, or Collection Name  Case Thickness   Case diameter  \\\n",
       "0                             Casio  12 millimeters  43 millimeters   \n",
       "1                             Timex   8 millimeters  35 millimeters   \n",
       "\n",
       "  Case material   Clasp          ...          Display Type Img_no  Item Shape  \\\n",
       "0         Resin  Buckle          ...                Analog      0       Round   \n",
       "1         Brass  Buckle          ...                Analog      1       Round   \n",
       "\n",
       "  Model Year Model number  Part Number  \\\n",
       "0       2014  MRW200H-1BV  MRW200H-1BV   \n",
       "1       2009       T2H281     T2H2819J   \n",
       "\n",
       "                                    Prod_description  \\\n",
       "0  This watch from Casio is water resistant up to...   \n",
       "1                                      Not available   \n",
       "\n",
       "                      Prod_title         Special features  \\\n",
       "0       Casio Men's MRW200H-1BCT          Water Resistant   \n",
       "1  Timex Men's Easy Reader Watch  measures-seconds, Light   \n",
       "\n",
       "  Water resistant depth  \n",
       "0              330 Feet  \n",
       "1               99 Feet  \n",
       "\n",
       "[2 rows x 21 columns]"
      ]
     },
     "execution_count": 214,
     "metadata": {},
     "output_type": "execute_result"
    }
   ],
   "source": [
    "df.head(2)"
   ]
  },
  {
   "cell_type": "code",
   "execution_count": 215,
   "metadata": {
    "collapsed": false
   },
   "outputs": [],
   "source": [
    "#Remove Model number and part number beacuase they arent giving us useful info(plus already in title)\n",
    "df.drop(['Model number','Part Number'],axis =1,inplace = True)"
   ]
  },
  {
   "cell_type": "code",
   "execution_count": 216,
   "metadata": {
    "collapsed": false
   },
   "outputs": [
    {
     "name": "stdout",
     "output_type": "stream",
     "text": [
      "Index([                       u'Band Color',\n",
      "                           u'Band Material',\n",
      "                             u'Band length',\n",
      "                              u'Band width',\n",
      "                          u'Bezel material',\n",
      "       u'Brand, Seller, or Collection Name',\n",
      "                          u'Case Thickness',\n",
      "                           u'Case diameter',\n",
      "                           u'Case material',\n",
      "                                   u'Clasp',\n",
      "                              u'Dial color',\n",
      "                            u'Display Type',\n",
      "                                  u'Img_no',\n",
      "                              u'Item Shape',\n",
      "                              u'Model Year',\n",
      "                        u'Prod_description',\n",
      "                              u'Prod_title',\n",
      "                        u'Special features',\n",
      "                   u'Water resistant depth'],\n",
      "      dtype='object')\n"
     ]
    },
    {
     "data": {
      "text/plain": [
       "(4957, 19)"
      ]
     },
     "execution_count": 216,
     "metadata": {},
     "output_type": "execute_result"
    }
   ],
   "source": [
    "print df.columns\n",
    "df.shape"
   ]
  },
  {
   "cell_type": "markdown",
   "metadata": {},
   "source": [
    "We still have plenty of null values but we'll deal with them with them as we go along.\n",
    "Since we apply to tfidf to categorical part we'll start by dealing with numerical data seperately. We will later combine the data together to form a feature space   \n"
   ]
  },
  {
   "cell_type": "code",
   "execution_count": 231,
   "metadata": {
    "collapsed": true
   },
   "outputs": [],
   "source": [
    "dfnum = df[['Band width','Water resistant depth','Case diameter','Case Thickness','Img_no']]\n",
    "dfcat = df.drop(['Band width','Water resistant depth','Case diameter','Case Thickness'],axis=1)"
   ]
  },
  {
   "cell_type": "markdown",
   "metadata": {
    "collapsed": false
   },
   "source": [
    "### Converting all the numerical features into numbers\n",
    "\n",
    "\n"
   ]
  },
  {
   "cell_type": "code",
   "execution_count": 261,
   "metadata": {
    "collapsed": false
   },
   "outputs": [
    {
     "name": "stderr",
     "output_type": "stream",
     "text": [
      "/Users/Iskandar/anaconda/lib/python2.7/site-packages/ipykernel/__main__.py:3: SettingWithCopyWarning: \n",
      "A value is trying to be set on a copy of a slice from a DataFrame.\n",
      "Try using .loc[row_indexer,col_indexer] = value instead\n",
      "\n",
      "See the caveats in the documentation: http://pandas.pydata.org/pandas-docs/stable/indexing.html#indexing-view-versus-copy\n",
      "  app.launch_new_instance()\n"
     ]
    },
    {
     "data": {
      "text/html": [
       "<div>\n",
       "<table border=\"1\" class=\"dataframe\">\n",
       "  <thead>\n",
       "    <tr style=\"text-align: right;\">\n",
       "      <th></th>\n",
       "      <th>Band width</th>\n",
       "      <th>Water resistant depth</th>\n",
       "      <th>Case diameter</th>\n",
       "      <th>Case Thickness</th>\n",
       "      <th>Img_no</th>\n",
       "    </tr>\n",
       "  </thead>\n",
       "  <tbody>\n",
       "    <tr>\n",
       "      <th>0</th>\n",
       "      <td>22 millimeters</td>\n",
       "      <td>330 feet</td>\n",
       "      <td>43 millimeters</td>\n",
       "      <td>12 millimeters</td>\n",
       "      <td>0</td>\n",
       "    </tr>\n",
       "    <tr>\n",
       "      <th>1</th>\n",
       "      <td>18 millimeters</td>\n",
       "      <td>99 feet</td>\n",
       "      <td>35 millimeters</td>\n",
       "      <td>8 millimeters</td>\n",
       "      <td>1</td>\n",
       "    </tr>\n",
       "    <tr>\n",
       "      <th>2</th>\n",
       "      <td>18 millimeters</td>\n",
       "      <td>0 feet</td>\n",
       "      <td>35 millimeters</td>\n",
       "      <td>8 millimeters</td>\n",
       "      <td>2</td>\n",
       "    </tr>\n",
       "    <tr>\n",
       "      <th>3</th>\n",
       "      <td>20 millimeters</td>\n",
       "      <td>50</td>\n",
       "      <td>35 millimeters</td>\n",
       "      <td>7.8 millimeters</td>\n",
       "      <td>3</td>\n",
       "    </tr>\n",
       "    <tr>\n",
       "      <th>4</th>\n",
       "      <td>20 millimeters</td>\n",
       "      <td>330 feet</td>\n",
       "      <td>41 millimeters</td>\n",
       "      <td>11 millimeters</td>\n",
       "      <td>4</td>\n",
       "    </tr>\n",
       "  </tbody>\n",
       "</table>\n",
       "</div>"
      ],
      "text/plain": [
       "       Band width Water resistant depth   Case diameter   Case Thickness  \\\n",
       "0  22 millimeters              330 feet  43 millimeters   12 millimeters   \n",
       "1  18 millimeters               99 feet  35 millimeters    8 millimeters   \n",
       "2  18 millimeters                0 feet  35 millimeters    8 millimeters   \n",
       "3  20 millimeters                    50  35 millimeters  7.8 millimeters   \n",
       "4  20 millimeters              330 feet  41 millimeters   11 millimeters   \n",
       "\n",
       "   Img_no  \n",
       "0       0  \n",
       "1       1  \n",
       "2       2  \n",
       "3       3  \n",
       "4       4  "
      ]
     },
     "execution_count": 261,
     "metadata": {},
     "output_type": "execute_result"
    }
   ],
   "source": [
    "#Ensuring that all units are in the same case(lower).Others are already lowercase\n",
    "\n",
    "dfnum['Water resistant depth'] = map(lambda x: x.lower(),dfnum['Water resistant depth'])\n",
    "\n",
    "\n",
    "dfnum.head()"
   ]
  },
  {
   "cell_type": "code",
   "execution_count": 232,
   "metadata": {
    "collapsed": false
   },
   "outputs": [],
   "source": [
    "#There are 5 columns with numbers. Filling na with (0 mm, ounces,feet )Looking for the different numerical units in each of them\n",
    "def fill_nulls(col_name,units):\n",
    "    '''\n",
    "    Input: Column name and units to be added\n",
    "    Output: None\n",
    "    '''\n",
    "    print \"No of nulls before filling for %s are\"%col_name, sum(dfnum[col_name].isnull())\n",
    "    dfnum[col_name].fillna( '0 %s'%units , inplace = True)\n",
    "    print \"No of nulls now\",sum(dfnum[col_name].isnull())\n",
    "    "
   ]
  },
  {
   "cell_type": "code",
   "execution_count": 262,
   "metadata": {
    "collapsed": false
   },
   "outputs": [
    {
     "data": {
      "text/html": [
       "<div>\n",
       "<table border=\"1\" class=\"dataframe\">\n",
       "  <thead>\n",
       "    <tr style=\"text-align: right;\">\n",
       "      <th></th>\n",
       "      <th>Band width</th>\n",
       "      <th>Water resistant depth</th>\n",
       "      <th>Case diameter</th>\n",
       "      <th>Case Thickness</th>\n",
       "      <th>Img_no</th>\n",
       "    </tr>\n",
       "  </thead>\n",
       "  <tbody>\n",
       "    <tr>\n",
       "      <th>0</th>\n",
       "      <td>22 millimeters</td>\n",
       "      <td>330 feet</td>\n",
       "      <td>43 millimeters</td>\n",
       "      <td>12 millimeters</td>\n",
       "      <td>0</td>\n",
       "    </tr>\n",
       "    <tr>\n",
       "      <th>1</th>\n",
       "      <td>18 millimeters</td>\n",
       "      <td>99 feet</td>\n",
       "      <td>35 millimeters</td>\n",
       "      <td>8 millimeters</td>\n",
       "      <td>1</td>\n",
       "    </tr>\n",
       "    <tr>\n",
       "      <th>2</th>\n",
       "      <td>18 millimeters</td>\n",
       "      <td>0 feet</td>\n",
       "      <td>35 millimeters</td>\n",
       "      <td>8 millimeters</td>\n",
       "      <td>2</td>\n",
       "    </tr>\n",
       "    <tr>\n",
       "      <th>3</th>\n",
       "      <td>20 millimeters</td>\n",
       "      <td>50</td>\n",
       "      <td>35 millimeters</td>\n",
       "      <td>7.8 millimeters</td>\n",
       "      <td>3</td>\n",
       "    </tr>\n",
       "    <tr>\n",
       "      <th>4</th>\n",
       "      <td>20 millimeters</td>\n",
       "      <td>330 feet</td>\n",
       "      <td>41 millimeters</td>\n",
       "      <td>11 millimeters</td>\n",
       "      <td>4</td>\n",
       "    </tr>\n",
       "  </tbody>\n",
       "</table>\n",
       "</div>"
      ],
      "text/plain": [
       "       Band width Water resistant depth   Case diameter   Case Thickness  \\\n",
       "0  22 millimeters              330 feet  43 millimeters   12 millimeters   \n",
       "1  18 millimeters               99 feet  35 millimeters    8 millimeters   \n",
       "2  18 millimeters                0 feet  35 millimeters    8 millimeters   \n",
       "3  20 millimeters                    50  35 millimeters  7.8 millimeters   \n",
       "4  20 millimeters              330 feet  41 millimeters   11 millimeters   \n",
       "\n",
       "   Img_no  \n",
       "0       0  \n",
       "1       1  \n",
       "2       2  \n",
       "3       3  \n",
       "4       4  "
      ]
     },
     "execution_count": 262,
     "metadata": {},
     "output_type": "execute_result"
    }
   ],
   "source": [
    "dfnum.head()"
   ]
  },
  {
   "cell_type": "code",
   "execution_count": 236,
   "metadata": {
    "collapsed": false,
    "scrolled": true
   },
   "outputs": [
    {
     "name": "stdout",
     "output_type": "stream",
     "text": [
      "No of nulls before filling for Band width are 0\n",
      "No of nulls now 0\n",
      "No of nulls before filling for Case Thickness are 0\n",
      "No of nulls now 0\n",
      "No of nulls before filling for Case diameter are 0\n",
      "No of nulls now 0\n"
     ]
    }
   ],
   "source": [
    "fill_nulls(\"Band width\", 'millimeters')\n",
    "fill_nulls(\"Case Thickness\", 'millimeters')\n",
    "fill_nulls(\"Case diameter\", 'millimeters')"
   ]
  },
  {
   "cell_type": "code",
   "execution_count": 263,
   "metadata": {
    "collapsed": false
   },
   "outputs": [
    {
     "name": "stdout",
     "output_type": "stream",
     "text": [
      "No of nulls before filling for Water resistant depth are 0\n",
      "No of nulls now 0\n"
     ]
    }
   ],
   "source": [
    "fill_nulls('Water resistant depth','feet')\n"
   ]
  },
  {
   "cell_type": "code",
   "execution_count": 264,
   "metadata": {
    "collapsed": false
   },
   "outputs": [
    {
     "data": {
      "text/html": [
       "<div>\n",
       "<table border=\"1\" class=\"dataframe\">\n",
       "  <thead>\n",
       "    <tr style=\"text-align: right;\">\n",
       "      <th></th>\n",
       "      <th>Band width</th>\n",
       "      <th>Water resistant depth</th>\n",
       "      <th>Case diameter</th>\n",
       "      <th>Case Thickness</th>\n",
       "      <th>Img_no</th>\n",
       "    </tr>\n",
       "  </thead>\n",
       "  <tbody>\n",
       "    <tr>\n",
       "      <th>0</th>\n",
       "      <td>22 millimeters</td>\n",
       "      <td>330 feet</td>\n",
       "      <td>43 millimeters</td>\n",
       "      <td>12 millimeters</td>\n",
       "      <td>0</td>\n",
       "    </tr>\n",
       "  </tbody>\n",
       "</table>\n",
       "</div>"
      ],
      "text/plain": [
       "       Band width Water resistant depth   Case diameter  Case Thickness  \\\n",
       "0  22 millimeters              330 feet  43 millimeters  12 millimeters   \n",
       "\n",
       "   Img_no  \n",
       "0       0  "
      ]
     },
     "execution_count": 264,
     "metadata": {},
     "output_type": "execute_result"
    }
   ],
   "source": [
    "dfnum.head(1)"
   ]
  },
  {
   "cell_type": "code",
   "execution_count": 293,
   "metadata": {
    "collapsed": true
   },
   "outputs": [],
   "source": [
    "# Function to get unique units per column to study them\n",
    "'''\n",
    "Input: Column Name\n",
    "Output: Returns unique values of units used\n",
    "\n",
    "'''\n",
    "\n",
    "\n",
    "def get_unique_num_units(col_name):\n",
    "    units = []\n",
    "    for x in dfnum[col_name]:\n",
    "        try :\n",
    "            units.append( str(x).split()[1])\n",
    "        except:\n",
    "            pass\n",
    "    u =set(units)\n",
    "    return u"
   ]
  },
  {
   "cell_type": "code",
   "execution_count": 294,
   "metadata": {
    "collapsed": false
   },
   "outputs": [
    {
     "data": {
      "text/plain": [
       "set()"
      ]
     },
     "execution_count": 294,
     "metadata": {},
     "output_type": "execute_result"
    }
   ],
   "source": [
    "get_unique_num_units(\"Band width\")"
   ]
  },
  {
   "cell_type": "markdown",
   "metadata": {
    "collapsed": true
   },
   "source": [
    "#### Getting the unit conversions in order"
   ]
  },
  {
   "cell_type": "code",
   "execution_count": 295,
   "metadata": {
    "collapsed": false
   },
   "outputs": [],
   "source": [
    "from pint import UnitRegistry"
   ]
  },
  {
   "cell_type": "code",
   "execution_count": 296,
   "metadata": {
    "collapsed": false
   },
   "outputs": [],
   "source": [
    "ureg = UnitRegistry()"
   ]
  },
  {
   "cell_type": "code",
   "execution_count": 297,
   "metadata": {
    "collapsed": false
   },
   "outputs": [],
   "source": [
    "def unit_conversion_pinthelper(ureg,elem, units_to):\n",
    "    '''\n",
    "    Takes a single entry as input and converts it to desired units. If the element doesnt have units,\n",
    "    except adds the desired units to it.\n",
    "    \n",
    "    Input: UnitRegistery object ,column name, units to convert to(an assumption made viewing the data)\n",
    "    \n",
    "    Output: A numpy array of data type quantity that can replace the entire \n",
    "    \n",
    "    '''\n",
    "    try: \n",
    "        elem = ureg.Quantity(elem).to(units_to)\n",
    "    except:\n",
    "        elem = ureg.Quantity(elem, units_to)\n",
    "    return  elem\n",
    "\n",
    "def unit_conversion(colname,desired_units):\n",
    "    dfnum[colname] = map(lambda x:float(unit_conversions(ureg,x,desired_units).magnitude),dfnum[colname])\n",
    "    "
   ]
  },
  {
   "cell_type": "markdown",
   "metadata": {
    "collapsed": true
   },
   "source": [
    "example of conversion\n",
    "df[\"Band width\"] = map(lambda x:float(unit_conversion_pinthelper(ureg,x,\"millimeter\").magnitude),df[\"Band width\"])"
   ]
  },
  {
   "cell_type": "code",
   "execution_count": 298,
   "metadata": {
    "collapsed": false
   },
   "outputs": [
    {
     "name": "stderr",
     "output_type": "stream",
     "text": [
      "/Users/Iskandar/anaconda/lib/python2.7/site-packages/ipykernel/__main__.py:18: SettingWithCopyWarning: \n",
      "A value is trying to be set on a copy of a slice from a DataFrame.\n",
      "Try using .loc[row_indexer,col_indexer] = value instead\n",
      "\n",
      "See the caveats in the documentation: http://pandas.pydata.org/pandas-docs/stable/indexing.html#indexing-view-versus-copy\n"
     ]
    }
   ],
   "source": [
    "unit_conversion(\"Band width\",\"millimeter\")\n",
    "unit_conversion(\"Case diameter\",\"millimeter\")   \n",
    "unit_conversion(\"Case Thickness\",\"millimeter\")\n"
   ]
  },
  {
   "cell_type": "code",
   "execution_count": 299,
   "metadata": {
    "collapsed": false
   },
   "outputs": [
    {
     "name": "stderr",
     "output_type": "stream",
     "text": [
      "/Users/Iskandar/anaconda/lib/python2.7/site-packages/ipykernel/__main__.py:18: SettingWithCopyWarning: \n",
      "A value is trying to be set on a copy of a slice from a DataFrame.\n",
      "Try using .loc[row_indexer,col_indexer] = value instead\n",
      "\n",
      "See the caveats in the documentation: http://pandas.pydata.org/pandas-docs/stable/indexing.html#indexing-view-versus-copy\n"
     ]
    }
   ],
   "source": [
    "unit_conversion('Water resistant depth',\"millimeter\")"
   ]
  },
  {
   "cell_type": "code",
   "execution_count": 300,
   "metadata": {
    "collapsed": false
   },
   "outputs": [
    {
     "data": {
      "text/html": [
       "<div>\n",
       "<table border=\"1\" class=\"dataframe\">\n",
       "  <thead>\n",
       "    <tr style=\"text-align: right;\">\n",
       "      <th></th>\n",
       "      <th>Band width</th>\n",
       "      <th>Water resistant depth</th>\n",
       "      <th>Case diameter</th>\n",
       "      <th>Case Thickness</th>\n",
       "      <th>Img_no</th>\n",
       "    </tr>\n",
       "  </thead>\n",
       "  <tbody>\n",
       "    <tr>\n",
       "      <th>0</th>\n",
       "      <td>22</td>\n",
       "      <td>100584.0</td>\n",
       "      <td>43</td>\n",
       "      <td>12.0</td>\n",
       "      <td>0</td>\n",
       "    </tr>\n",
       "    <tr>\n",
       "      <th>1</th>\n",
       "      <td>18</td>\n",
       "      <td>30175.2</td>\n",
       "      <td>35</td>\n",
       "      <td>8.0</td>\n",
       "      <td>1</td>\n",
       "    </tr>\n",
       "    <tr>\n",
       "      <th>2</th>\n",
       "      <td>18</td>\n",
       "      <td>0.0</td>\n",
       "      <td>35</td>\n",
       "      <td>8.0</td>\n",
       "      <td>2</td>\n",
       "    </tr>\n",
       "    <tr>\n",
       "      <th>3</th>\n",
       "      <td>20</td>\n",
       "      <td>50.0</td>\n",
       "      <td>35</td>\n",
       "      <td>7.8</td>\n",
       "      <td>3</td>\n",
       "    </tr>\n",
       "    <tr>\n",
       "      <th>4</th>\n",
       "      <td>20</td>\n",
       "      <td>100584.0</td>\n",
       "      <td>41</td>\n",
       "      <td>11.0</td>\n",
       "      <td>4</td>\n",
       "    </tr>\n",
       "  </tbody>\n",
       "</table>\n",
       "</div>"
      ],
      "text/plain": [
       "   Band width  Water resistant depth  Case diameter  Case Thickness  Img_no\n",
       "0          22               100584.0             43            12.0       0\n",
       "1          18                30175.2             35             8.0       1\n",
       "2          18                    0.0             35             8.0       2\n",
       "3          20                   50.0             35             7.8       3\n",
       "4          20               100584.0             41            11.0       4"
      ]
     },
     "execution_count": 300,
     "metadata": {},
     "output_type": "execute_result"
    }
   ],
   "source": [
    "dfnum.head()"
   ]
  },
  {
   "cell_type": "markdown",
   "metadata": {},
   "source": [
    "With this our numerical varibales are ready. Now for categorical variables"
   ]
  },
  {
   "cell_type": "markdown",
   "metadata": {},
   "source": [
    "## Dealing with categorical variables"
   ]
  },
  {
   "cell_type": "code",
   "execution_count": 383,
   "metadata": {
    "collapsed": false,
    "scrolled": true
   },
   "outputs": [
    {
     "data": {
      "text/plain": [
       "Band Color                           object\n",
       "Band Material                        object\n",
       "Band length                          object\n",
       "Bezel material                       object\n",
       "Brand, Seller, or Collection Name    object\n",
       "Case material                        object\n",
       "Clasp                                object\n",
       "Dial color                           object\n",
       "Display Type                         object\n",
       "Img_no                                int64\n",
       "Item Shape                           object\n",
       "Model Year                           object\n",
       "Prod_description                     object\n",
       "Prod_title                           object\n",
       "Special features                     object\n",
       "Final_String                         object\n",
       "dtype: object"
      ]
     },
     "execution_count": 383,
     "metadata": {},
     "output_type": "execute_result"
    }
   ],
   "source": [
    "dfcat.dtypes"
   ]
  },
  {
   "cell_type": "code",
   "execution_count": 394,
   "metadata": {
    "collapsed": true
   },
   "outputs": [],
   "source": [
    "columns_df = dfcat.drop(['Img_no',\"Prod_description\",\"Final_String\"],axis=1).columns #Product description column needs encoding beacuse its \n",
    "#it has non ascii characters that cant be converted to string by str"
   ]
  },
  {
   "cell_type": "code",
   "execution_count": 404,
   "metadata": {
    "collapsed": false
   },
   "outputs": [
    {
     "name": "stdout",
     "output_type": "stream",
     "text": [
      "Band Color done\n",
      "Band Material done\n",
      "Band length done\n",
      "Bezel material done\n",
      "Brand, Seller, or Collection Name done\n",
      "Case material done\n",
      "Clasp done\n",
      "Dial color done\n",
      "Display Type done\n",
      "Item Shape done\n",
      "Model Year done\n",
      "Prod_title done\n",
      "Special features done\n"
     ]
    }
   ],
   "source": [
    "#Converting all columns into string datatype\n",
    "for col in columns_df:\n",
    "    dfcat[col] = map(lambda x: str(x).lower(),dfcat[col])\n",
    "    print \"%s done\"%col\n",
    "# Now we move on to product description tab"
   ]
  },
  {
   "cell_type": "code",
   "execution_count": 388,
   "metadata": {
    "collapsed": false
   },
   "outputs": [
    {
     "data": {
      "text/plain": [
       "Band Color                           object\n",
       "Band Material                        object\n",
       "Band length                          object\n",
       "Bezel material                       object\n",
       "Brand, Seller, or Collection Name    object\n",
       "Case material                        object\n",
       "Clasp                                object\n",
       "Dial color                           object\n",
       "Display Type                         object\n",
       "Img_no                                int64\n",
       "Item Shape                           object\n",
       "Model Year                           object\n",
       "Prod_description                     object\n",
       "Prod_title                           object\n",
       "Special features                     object\n",
       "Final_String                         object\n",
       "dtype: object"
      ]
     },
     "execution_count": 388,
     "metadata": {},
     "output_type": "execute_result"
    }
   ],
   "source": [
    "dfcat.dtypes"
   ]
  },
  {
   "cell_type": "code",
   "execution_count": null,
   "metadata": {
    "collapsed": true
   },
   "outputs": [],
   "source": []
  },
  {
   "cell_type": "code",
   "execution_count": null,
   "metadata": {
    "collapsed": true
   },
   "outputs": [],
   "source": []
  },
  {
   "cell_type": "code",
   "execution_count": null,
   "metadata": {
    "collapsed": true
   },
   "outputs": [],
   "source": []
  },
  {
   "cell_type": "markdown",
   "metadata": {},
   "source": [
    "### Getting data ready for TFIDF"
   ]
  },
  {
   "cell_type": "code",
   "execution_count": 319,
   "metadata": {
    "collapsed": false
   },
   "outputs": [],
   "source": [
    "#Getting all columns except image number which is a numerical column which should serve as our index\n",
    "columns_df = dfcat.drop(['Img_no'],axis=1).columns"
   ]
  },
  {
   "cell_type": "code",
   "execution_count": 328,
   "metadata": {
    "collapsed": false
   },
   "outputs": [],
   "source": [
    "#Adding up all the strings\n",
    "dfcat[\"Final_String\"] = \"\"\n",
    "for col in columns_df:\n",
    "    dfcat[\"Final_String\"] += \" \"\n",
    "    dfcat[\"Final_String\"] += dfcat[col] "
   ]
  },
  {
   "cell_type": "code",
   "execution_count": 337,
   "metadata": {
    "collapsed": false
   },
   "outputs": [
    {
     "name": "stdout",
     "output_type": "stream",
     "text": [
      " Brown Canvas mens Stainless steel Casio Stainless steel Hook-and-loop Beige Analog and digital Round 2014 Watch features an analog/digital combination display, 30-record telememo, world time (30 cities), LED light, 1/100 second stopwatch, countdown timer, three daily alarms, hourly time signal, auto calendar, 12- and 24- hour formats, 10-year battery life and water resistance to 50 meters. Casio Men's AW80V-5BV alarm-feature, Water Resistant, World time >>>> Watch features an analog/digital combination display, 30-record telememo, world time (30 cities), LED light, 1/100 second stopwatch, countdown timer, three daily alarms, hourly time signal, auto calendar, 12- and 24- hour formats, 10-year battery life and water resistance to 50 meters.\n"
     ]
    }
   ],
   "source": [
    "print dfcat['Final_String'][8], \">>>>\",dfcat[\"Prod_description\"][8]\n",
    "    "
   ]
  },
  {
   "cell_type": "code",
   "execution_count": 338,
   "metadata": {
    "collapsed": true
   },
   "outputs": [],
   "source": [
    "#Seems like its working. Now creating our dataframe for tfidf\n",
    "X = dfcat[[\"Img_no\",\"Final_String\"]]"
   ]
  },
  {
   "cell_type": "code",
   "execution_count": 364,
   "metadata": {
    "collapsed": false
   },
   "outputs": [
    {
     "data": {
      "text/plain": [
       "(4957, 2)"
      ]
     },
     "execution_count": 364,
     "metadata": {},
     "output_type": "execute_result"
    }
   ],
   "source": [
    "X[[]]"
   ]
  },
  {
   "cell_type": "code",
   "execution_count": 380,
   "metadata": {
    "collapsed": false
   },
   "outputs": [],
   "source": [
    "# Lowercasing the string\n",
    "data = (X['Final_String'].reshape(-1,1)).shape"
   ]
  },
  {
   "cell_type": "code",
   "execution_count": 381,
   "metadata": {
    "collapsed": false
   },
   "outputs": [
    {
     "ename": "AttributeError",
     "evalue": "'int' object has no attribute 'lower'",
     "output_type": "error",
     "traceback": [
      "\u001b[0;31m---------------------------------------------------------------------------\u001b[0m",
      "\u001b[0;31mAttributeError\u001b[0m                            Traceback (most recent call last)",
      "\u001b[0;32m<ipython-input-381-29d1593a7d1d>\u001b[0m in \u001b[0;36m<module>\u001b[0;34m()\u001b[0m\n\u001b[1;32m      2\u001b[0m \u001b[0;34m\u001b[0m\u001b[0m\n\u001b[1;32m      3\u001b[0m \u001b[0mvect\u001b[0m \u001b[0;34m=\u001b[0m \u001b[0mTfidfVectorizer\u001b[0m\u001b[0;34m(\u001b[0m\u001b[0mstop_words\u001b[0m \u001b[0;34m=\u001b[0m \u001b[0;34m\"english\"\u001b[0m\u001b[0;34m)\u001b[0m\u001b[0;34m\u001b[0m\u001b[0m\n\u001b[0;32m----> 4\u001b[0;31m \u001b[0mtfidf\u001b[0m \u001b[0;34m=\u001b[0m \u001b[0mvect\u001b[0m\u001b[0;34m.\u001b[0m\u001b[0mfit_transform\u001b[0m\u001b[0;34m(\u001b[0m\u001b[0mdata\u001b[0m\u001b[0;34m)\u001b[0m\u001b[0;34m\u001b[0m\u001b[0m\n\u001b[0m\u001b[1;32m      5\u001b[0m \u001b[0;34m\u001b[0m\u001b[0m\n",
      "\u001b[0;32m/Users/Iskandar/anaconda/lib/python2.7/site-packages/sklearn/feature_extraction/text.pyc\u001b[0m in \u001b[0;36mfit_transform\u001b[0;34m(self, raw_documents, y)\u001b[0m\n\u001b[1;32m   1303\u001b[0m             \u001b[0mTf\u001b[0m\u001b[0;34m-\u001b[0m\u001b[0midf\u001b[0m\u001b[0;34m-\u001b[0m\u001b[0mweighted\u001b[0m \u001b[0mdocument\u001b[0m\u001b[0;34m-\u001b[0m\u001b[0mterm\u001b[0m \u001b[0mmatrix\u001b[0m\u001b[0;34m.\u001b[0m\u001b[0;34m\u001b[0m\u001b[0m\n\u001b[1;32m   1304\u001b[0m         \"\"\"\n\u001b[0;32m-> 1305\u001b[0;31m         \u001b[0mX\u001b[0m \u001b[0;34m=\u001b[0m \u001b[0msuper\u001b[0m\u001b[0;34m(\u001b[0m\u001b[0mTfidfVectorizer\u001b[0m\u001b[0;34m,\u001b[0m \u001b[0mself\u001b[0m\u001b[0;34m)\u001b[0m\u001b[0;34m.\u001b[0m\u001b[0mfit_transform\u001b[0m\u001b[0;34m(\u001b[0m\u001b[0mraw_documents\u001b[0m\u001b[0;34m)\u001b[0m\u001b[0;34m\u001b[0m\u001b[0m\n\u001b[0m\u001b[1;32m   1306\u001b[0m         \u001b[0mself\u001b[0m\u001b[0;34m.\u001b[0m\u001b[0m_tfidf\u001b[0m\u001b[0;34m.\u001b[0m\u001b[0mfit\u001b[0m\u001b[0;34m(\u001b[0m\u001b[0mX\u001b[0m\u001b[0;34m)\u001b[0m\u001b[0;34m\u001b[0m\u001b[0m\n\u001b[1;32m   1307\u001b[0m         \u001b[0;31m# X is already a transformed view of raw_documents so\u001b[0m\u001b[0;34m\u001b[0m\u001b[0;34m\u001b[0m\u001b[0m\n",
      "\u001b[0;32m/Users/Iskandar/anaconda/lib/python2.7/site-packages/sklearn/feature_extraction/text.pyc\u001b[0m in \u001b[0;36mfit_transform\u001b[0;34m(self, raw_documents, y)\u001b[0m\n\u001b[1;32m    815\u001b[0m \u001b[0;34m\u001b[0m\u001b[0m\n\u001b[1;32m    816\u001b[0m         vocabulary, X = self._count_vocab(raw_documents,\n\u001b[0;32m--> 817\u001b[0;31m                                           self.fixed_vocabulary_)\n\u001b[0m\u001b[1;32m    818\u001b[0m \u001b[0;34m\u001b[0m\u001b[0m\n\u001b[1;32m    819\u001b[0m         \u001b[0;32mif\u001b[0m \u001b[0mself\u001b[0m\u001b[0;34m.\u001b[0m\u001b[0mbinary\u001b[0m\u001b[0;34m:\u001b[0m\u001b[0;34m\u001b[0m\u001b[0m\n",
      "\u001b[0;32m/Users/Iskandar/anaconda/lib/python2.7/site-packages/sklearn/feature_extraction/text.pyc\u001b[0m in \u001b[0;36m_count_vocab\u001b[0;34m(self, raw_documents, fixed_vocab)\u001b[0m\n\u001b[1;32m    750\u001b[0m         \u001b[0mindptr\u001b[0m\u001b[0;34m.\u001b[0m\u001b[0mappend\u001b[0m\u001b[0;34m(\u001b[0m\u001b[0;36m0\u001b[0m\u001b[0;34m)\u001b[0m\u001b[0;34m\u001b[0m\u001b[0m\n\u001b[1;32m    751\u001b[0m         \u001b[0;32mfor\u001b[0m \u001b[0mdoc\u001b[0m \u001b[0;32min\u001b[0m \u001b[0mraw_documents\u001b[0m\u001b[0;34m:\u001b[0m\u001b[0;34m\u001b[0m\u001b[0m\n\u001b[0;32m--> 752\u001b[0;31m             \u001b[0;32mfor\u001b[0m \u001b[0mfeature\u001b[0m \u001b[0;32min\u001b[0m \u001b[0manalyze\u001b[0m\u001b[0;34m(\u001b[0m\u001b[0mdoc\u001b[0m\u001b[0;34m)\u001b[0m\u001b[0;34m:\u001b[0m\u001b[0;34m\u001b[0m\u001b[0m\n\u001b[0m\u001b[1;32m    753\u001b[0m                 \u001b[0;32mtry\u001b[0m\u001b[0;34m:\u001b[0m\u001b[0;34m\u001b[0m\u001b[0m\n\u001b[1;32m    754\u001b[0m                     \u001b[0mj_indices\u001b[0m\u001b[0;34m.\u001b[0m\u001b[0mappend\u001b[0m\u001b[0;34m(\u001b[0m\u001b[0mvocabulary\u001b[0m\u001b[0;34m[\u001b[0m\u001b[0mfeature\u001b[0m\u001b[0;34m]\u001b[0m\u001b[0;34m)\u001b[0m\u001b[0;34m\u001b[0m\u001b[0m\n",
      "\u001b[0;32m/Users/Iskandar/anaconda/lib/python2.7/site-packages/sklearn/feature_extraction/text.pyc\u001b[0m in \u001b[0;36m<lambda>\u001b[0;34m(doc)\u001b[0m\n\u001b[1;32m    236\u001b[0m \u001b[0;34m\u001b[0m\u001b[0m\n\u001b[1;32m    237\u001b[0m             return lambda doc: self._word_ngrams(\n\u001b[0;32m--> 238\u001b[0;31m                 tokenize(preprocess(self.decode(doc))), stop_words)\n\u001b[0m\u001b[1;32m    239\u001b[0m \u001b[0;34m\u001b[0m\u001b[0m\n\u001b[1;32m    240\u001b[0m         \u001b[0;32melse\u001b[0m\u001b[0;34m:\u001b[0m\u001b[0;34m\u001b[0m\u001b[0m\n",
      "\u001b[0;32m/Users/Iskandar/anaconda/lib/python2.7/site-packages/sklearn/feature_extraction/text.pyc\u001b[0m in \u001b[0;36m<lambda>\u001b[0;34m(x)\u001b[0m\n\u001b[1;32m    202\u001b[0m \u001b[0;34m\u001b[0m\u001b[0m\n\u001b[1;32m    203\u001b[0m         \u001b[0;32mif\u001b[0m \u001b[0mself\u001b[0m\u001b[0;34m.\u001b[0m\u001b[0mlowercase\u001b[0m\u001b[0;34m:\u001b[0m\u001b[0;34m\u001b[0m\u001b[0m\n\u001b[0;32m--> 204\u001b[0;31m             \u001b[0;32mreturn\u001b[0m \u001b[0;32mlambda\u001b[0m \u001b[0mx\u001b[0m\u001b[0;34m:\u001b[0m \u001b[0mstrip_accents\u001b[0m\u001b[0;34m(\u001b[0m\u001b[0mx\u001b[0m\u001b[0;34m.\u001b[0m\u001b[0mlower\u001b[0m\u001b[0;34m(\u001b[0m\u001b[0;34m)\u001b[0m\u001b[0;34m)\u001b[0m\u001b[0;34m\u001b[0m\u001b[0m\n\u001b[0m\u001b[1;32m    205\u001b[0m         \u001b[0;32melse\u001b[0m\u001b[0;34m:\u001b[0m\u001b[0;34m\u001b[0m\u001b[0m\n\u001b[1;32m    206\u001b[0m             \u001b[0;32mreturn\u001b[0m \u001b[0mstrip_accents\u001b[0m\u001b[0;34m\u001b[0m\u001b[0m\n",
      "\u001b[0;31mAttributeError\u001b[0m: 'int' object has no attribute 'lower'"
     ]
    }
   ],
   "source": [
    "\n",
    "\n",
    "vect = TfidfVectorizer(stop_words = \"english\")\n",
    "tfidf = vect.fit_transform(data)\n",
    "\n"
   ]
  },
  {
   "cell_type": "code",
   "execution_count": 375,
   "metadata": {
    "collapsed": false
   },
   "outputs": [
    {
     "data": {
      "text/plain": [
       "(2, 2)"
      ]
     },
     "execution_count": 375,
     "metadata": {},
     "output_type": "execute_result"
    }
   ],
   "source": [
    "tfidf.todense().shape"
   ]
  },
  {
   "cell_type": "code",
   "execution_count": 370,
   "metadata": {
    "collapsed": false
   },
   "outputs": [
    {
     "data": {
      "text/html": [
       "<div>\n",
       "<table border=\"1\" class=\"dataframe\">\n",
       "  <thead>\n",
       "    <tr style=\"text-align: right;\">\n",
       "      <th></th>\n",
       "      <th>Final_String</th>\n",
       "    </tr>\n",
       "  </thead>\n",
       "  <tbody>\n",
       "    <tr>\n",
       "      <th>0</th>\n",
       "      <td>Black Resin Men's Standard Resin Casio Resin ...</td>\n",
       "    </tr>\n",
       "    <tr>\n",
       "      <th>1</th>\n",
       "      <td>Black Calfskin Mens Standard Brass Timex Bras...</td>\n",
       "    </tr>\n",
       "    <tr>\n",
       "      <th>2</th>\n",
       "      <td>Black Resin mens Plastic Casio Plastic Buckle...</td>\n",
       "    </tr>\n",
       "    <tr>\n",
       "      <th>3</th>\n",
       "      <td>Black Resin mens Resin Casio Resin Buckle Whi...</td>\n",
       "    </tr>\n",
       "    <tr>\n",
       "      <th>4</th>\n",
       "      <td>Biege Nylon Mens-Standard Stainless Steel Cas...</td>\n",
       "    </tr>\n",
       "    <tr>\n",
       "      <th>5</th>\n",
       "      <td>Various Resin mens Resin Casio Resin Buckle D...</td>\n",
       "    </tr>\n",
       "    <tr>\n",
       "      <th>6</th>\n",
       "      <td>Silver Stainless steel mens Stainless steel C...</td>\n",
       "    </tr>\n",
       "    <tr>\n",
       "      <th>7</th>\n",
       "      <td>Various Resin Mens Resin Casio Resin Buckle B...</td>\n",
       "    </tr>\n",
       "    <tr>\n",
       "      <th>8</th>\n",
       "      <td>Brown Canvas mens Stainless steel Casio Stain...</td>\n",
       "    </tr>\n",
       "    <tr>\n",
       "      <th>9</th>\n",
       "      <td>Silver Stainless steel mens Brass Timex Brass...</td>\n",
       "    </tr>\n",
       "    <tr>\n",
       "      <th>10</th>\n",
       "      <td>Brown Calfskin Mens Standard Brass Timex Bras...</td>\n",
       "    </tr>\n",
       "    <tr>\n",
       "      <th>11</th>\n",
       "      <td>Silver Stainless steel mens Stainless steel C...</td>\n",
       "    </tr>\n",
       "    <tr>\n",
       "      <th>12</th>\n",
       "      <td>Brown Calfskin Men's Standard Brass Timex Bra...</td>\n",
       "    </tr>\n",
       "    <tr>\n",
       "      <th>13</th>\n",
       "      <td>NaN</td>\n",
       "    </tr>\n",
       "    <tr>\n",
       "      <th>14</th>\n",
       "      <td>Silver Titanium mens Titanium Seiko Titanium ...</td>\n",
       "    </tr>\n",
       "    <tr>\n",
       "      <th>15</th>\n",
       "      <td>Black Resin Men's Standard Resin Casio Resin ...</td>\n",
       "    </tr>\n",
       "    <tr>\n",
       "      <th>16</th>\n",
       "      <td>Silver Stainless steel mens Resin Casio Stain...</td>\n",
       "    </tr>\n",
       "    <tr>\n",
       "      <th>17</th>\n",
       "      <td>NaN</td>\n",
       "    </tr>\n",
       "    <tr>\n",
       "      <th>18</th>\n",
       "      <td>Black Resin Mens Standard Resin Timex Resin B...</td>\n",
       "    </tr>\n",
       "    <tr>\n",
       "      <th>19</th>\n",
       "      <td>Gold Stainless steel Men's Standard Stainless...</td>\n",
       "    </tr>\n",
       "    <tr>\n",
       "      <th>20</th>\n",
       "      <td>Silver Stainless steel Mens Standard Brass Ti...</td>\n",
       "    </tr>\n",
       "    <tr>\n",
       "      <th>21</th>\n",
       "      <td>Black Resin Men's Standard Resin Timex Stainl...</td>\n",
       "    </tr>\n",
       "    <tr>\n",
       "      <th>22</th>\n",
       "      <td>Green Nylon Men's Standard Brass Timex Brass ...</td>\n",
       "    </tr>\n",
       "    <tr>\n",
       "      <th>23</th>\n",
       "      <td>NaN</td>\n",
       "    </tr>\n",
       "    <tr>\n",
       "      <th>24</th>\n",
       "      <td>NaN</td>\n",
       "    </tr>\n",
       "    <tr>\n",
       "      <th>25</th>\n",
       "      <td>Silver Stainless steel mens Stainless steel I...</td>\n",
       "    </tr>\n",
       "    <tr>\n",
       "      <th>26</th>\n",
       "      <td>Black Nylon Mens-Standard Stainless Steel Cas...</td>\n",
       "    </tr>\n",
       "    <tr>\n",
       "      <th>27</th>\n",
       "      <td>Black Resin Mens Standard Resin Casio Resin B...</td>\n",
       "    </tr>\n",
       "    <tr>\n",
       "      <th>28</th>\n",
       "      <td>Silver Stainless steel Men's Standard Stainle...</td>\n",
       "    </tr>\n",
       "    <tr>\n",
       "      <th>29</th>\n",
       "      <td>Black Resin Unisex Resin Casio Resin Buckle G...</td>\n",
       "    </tr>\n",
       "    <tr>\n",
       "      <th>...</th>\n",
       "      <td>...</td>\n",
       "    </tr>\n",
       "    <tr>\n",
       "      <th>4927</th>\n",
       "      <td>Black leather calfskin Men's Standard Stainle...</td>\n",
       "    </tr>\n",
       "    <tr>\n",
       "      <th>4928</th>\n",
       "      <td>NaN</td>\n",
       "    </tr>\n",
       "    <tr>\n",
       "      <th>4929</th>\n",
       "      <td>NaN</td>\n",
       "    </tr>\n",
       "    <tr>\n",
       "      <th>4930</th>\n",
       "      <td>Blue Plastic Women's Standard Plastic Swatch ...</td>\n",
       "    </tr>\n",
       "    <tr>\n",
       "      <th>4931</th>\n",
       "      <td>Silver Stainless steel Men's Standard Stainle...</td>\n",
       "    </tr>\n",
       "    <tr>\n",
       "      <th>4932</th>\n",
       "      <td>Silver Stainless steel Men's Standard Stainle...</td>\n",
       "    </tr>\n",
       "    <tr>\n",
       "      <th>4933</th>\n",
       "      <td>NaN</td>\n",
       "    </tr>\n",
       "    <tr>\n",
       "      <th>4934</th>\n",
       "      <td>NaN</td>\n",
       "    </tr>\n",
       "    <tr>\n",
       "      <th>4935</th>\n",
       "      <td>Silver Stainless steel Men's Standard Stainle...</td>\n",
       "    </tr>\n",
       "    <tr>\n",
       "      <th>4936</th>\n",
       "      <td>Silver Stainless steel Men's Standard Stainle...</td>\n",
       "    </tr>\n",
       "    <tr>\n",
       "      <th>4937</th>\n",
       "      <td>Black Polyurethane Men's Standard Stainless s...</td>\n",
       "    </tr>\n",
       "    <tr>\n",
       "      <th>4938</th>\n",
       "      <td>Black leather calfskin Men's Standard Stainle...</td>\n",
       "    </tr>\n",
       "    <tr>\n",
       "      <th>4939</th>\n",
       "      <td>NaN</td>\n",
       "    </tr>\n",
       "    <tr>\n",
       "      <th>4940</th>\n",
       "      <td>Silver Stainless steel Men's Standard Stainle...</td>\n",
       "    </tr>\n",
       "    <tr>\n",
       "      <th>4941</th>\n",
       "      <td>Silver Stainless steel Men's Standard Stainle...</td>\n",
       "    </tr>\n",
       "    <tr>\n",
       "      <th>4942</th>\n",
       "      <td>Silver Stainless steel Men's Standard Stainle...</td>\n",
       "    </tr>\n",
       "    <tr>\n",
       "      <th>4943</th>\n",
       "      <td>Black Stainless steel Men's Standard Stainles...</td>\n",
       "    </tr>\n",
       "    <tr>\n",
       "      <th>4944</th>\n",
       "      <td>Black leather calfskin Men's Standard Stainle...</td>\n",
       "    </tr>\n",
       "    <tr>\n",
       "      <th>4945</th>\n",
       "      <td>Silver Stainless steel-plated Men's Standard ...</td>\n",
       "    </tr>\n",
       "    <tr>\n",
       "      <th>4946</th>\n",
       "      <td>Black Silicone Men's Standard Stainless steel...</td>\n",
       "    </tr>\n",
       "    <tr>\n",
       "      <th>4947</th>\n",
       "      <td>Silver Stainless steel Men's Standard Stainle...</td>\n",
       "    </tr>\n",
       "    <tr>\n",
       "      <th>4948</th>\n",
       "      <td>Black Polyurethane Men's Standard Stainless s...</td>\n",
       "    </tr>\n",
       "    <tr>\n",
       "      <th>4949</th>\n",
       "      <td>Brown leather calfskin Men's Standard Stainle...</td>\n",
       "    </tr>\n",
       "    <tr>\n",
       "      <th>4950</th>\n",
       "      <td>NaN</td>\n",
       "    </tr>\n",
       "    <tr>\n",
       "      <th>4951</th>\n",
       "      <td>Black Silicone Men's Standard Plastic Ferrari...</td>\n",
       "    </tr>\n",
       "    <tr>\n",
       "      <th>4952</th>\n",
       "      <td>Black leather calfskin Men's Standard Stainle...</td>\n",
       "    </tr>\n",
       "    <tr>\n",
       "      <th>4953</th>\n",
       "      <td>Black Silicone Men's Standard Stainless steel...</td>\n",
       "    </tr>\n",
       "    <tr>\n",
       "      <th>4954</th>\n",
       "      <td>rose gold Stainless steel Men's Standard Stai...</td>\n",
       "    </tr>\n",
       "    <tr>\n",
       "      <th>4955</th>\n",
       "      <td>Silver Stainless steel Men's Standard Stainle...</td>\n",
       "    </tr>\n",
       "    <tr>\n",
       "      <th>4956</th>\n",
       "      <td>Silver Stainless steel Men's Standard Stainle...</td>\n",
       "    </tr>\n",
       "  </tbody>\n",
       "</table>\n",
       "<p>4957 rows × 1 columns</p>\n",
       "</div>"
      ],
      "text/plain": [
       "                                           Final_String\n",
       "0      Black Resin Men's Standard Resin Casio Resin ...\n",
       "1      Black Calfskin Mens Standard Brass Timex Bras...\n",
       "2      Black Resin mens Plastic Casio Plastic Buckle...\n",
       "3      Black Resin mens Resin Casio Resin Buckle Whi...\n",
       "4      Biege Nylon Mens-Standard Stainless Steel Cas...\n",
       "5      Various Resin mens Resin Casio Resin Buckle D...\n",
       "6      Silver Stainless steel mens Stainless steel C...\n",
       "7      Various Resin Mens Resin Casio Resin Buckle B...\n",
       "8      Brown Canvas mens Stainless steel Casio Stain...\n",
       "9      Silver Stainless steel mens Brass Timex Brass...\n",
       "10     Brown Calfskin Mens Standard Brass Timex Bras...\n",
       "11     Silver Stainless steel mens Stainless steel C...\n",
       "12     Brown Calfskin Men's Standard Brass Timex Bra...\n",
       "13                                                  NaN\n",
       "14     Silver Titanium mens Titanium Seiko Titanium ...\n",
       "15     Black Resin Men's Standard Resin Casio Resin ...\n",
       "16     Silver Stainless steel mens Resin Casio Stain...\n",
       "17                                                  NaN\n",
       "18     Black Resin Mens Standard Resin Timex Resin B...\n",
       "19     Gold Stainless steel Men's Standard Stainless...\n",
       "20     Silver Stainless steel Mens Standard Brass Ti...\n",
       "21     Black Resin Men's Standard Resin Timex Stainl...\n",
       "22     Green Nylon Men's Standard Brass Timex Brass ...\n",
       "23                                                  NaN\n",
       "24                                                  NaN\n",
       "25     Silver Stainless steel mens Stainless steel I...\n",
       "26     Black Nylon Mens-Standard Stainless Steel Cas...\n",
       "27     Black Resin Mens Standard Resin Casio Resin B...\n",
       "28     Silver Stainless steel Men's Standard Stainle...\n",
       "29     Black Resin Unisex Resin Casio Resin Buckle G...\n",
       "...                                                 ...\n",
       "4927   Black leather calfskin Men's Standard Stainle...\n",
       "4928                                                NaN\n",
       "4929                                                NaN\n",
       "4930   Blue Plastic Women's Standard Plastic Swatch ...\n",
       "4931   Silver Stainless steel Men's Standard Stainle...\n",
       "4932   Silver Stainless steel Men's Standard Stainle...\n",
       "4933                                                NaN\n",
       "4934                                                NaN\n",
       "4935   Silver Stainless steel Men's Standard Stainle...\n",
       "4936   Silver Stainless steel Men's Standard Stainle...\n",
       "4937   Black Polyurethane Men's Standard Stainless s...\n",
       "4938   Black leather calfskin Men's Standard Stainle...\n",
       "4939                                                NaN\n",
       "4940   Silver Stainless steel Men's Standard Stainle...\n",
       "4941   Silver Stainless steel Men's Standard Stainle...\n",
       "4942   Silver Stainless steel Men's Standard Stainle...\n",
       "4943   Black Stainless steel Men's Standard Stainles...\n",
       "4944   Black leather calfskin Men's Standard Stainle...\n",
       "4945   Silver Stainless steel-plated Men's Standard ...\n",
       "4946   Black Silicone Men's Standard Stainless steel...\n",
       "4947   Silver Stainless steel Men's Standard Stainle...\n",
       "4948   Black Polyurethane Men's Standard Stainless s...\n",
       "4949   Brown leather calfskin Men's Standard Stainle...\n",
       "4950                                                NaN\n",
       "4951   Black Silicone Men's Standard Plastic Ferrari...\n",
       "4952   Black leather calfskin Men's Standard Stainle...\n",
       "4953   Black Silicone Men's Standard Stainless steel...\n",
       "4954   rose gold Stainless steel Men's Standard Stai...\n",
       "4955   Silver Stainless steel Men's Standard Stainle...\n",
       "4956   Silver Stainless steel Men's Standard Stainle...\n",
       "\n",
       "[4957 rows x 1 columns]"
      ]
     },
     "execution_count": 370,
     "metadata": {},
     "output_type": "execute_result"
    }
   ],
   "source": [
    "X[['Final_String']]"
   ]
  },
  {
   "cell_type": "code",
   "execution_count": null,
   "metadata": {
    "collapsed": true
   },
   "outputs": [],
   "source": []
  },
  {
   "cell_type": "code",
   "execution_count": null,
   "metadata": {
    "collapsed": true
   },
   "outputs": [],
   "source": []
  },
  {
   "cell_type": "code",
   "execution_count": null,
   "metadata": {
    "collapsed": true
   },
   "outputs": [],
   "source": []
  },
  {
   "cell_type": "code",
   "execution_count": 170,
   "metadata": {
    "collapsed": false
   },
   "outputs": [],
   "source": [
    "len_max_ind = 0 # index of element with Max Length of table\n",
    "len_max = 0 # max length\n",
    "ind = [] # All the indexes with max length to compare if table has same c\n",
    "# Getting the table with max components to be used to derive the table contents. The one which has the max\n",
    "\n",
    "for i,result in enumerate(results):\n",
    "    if len(result[1]) > len_max :\n",
    "        len_max = len(result[1])\n",
    "        len_max_index = i\n",
    "        \n",
    "    elif  (len(result[1]) == len_max):\n",
    "        ind.append((i,len_max))\n",
    "        \n",
    "    else:\n",
    "        pass"
   ]
  },
  {
   "cell_type": "code",
   "execution_count": 178,
   "metadata": {
    "collapsed": false
   },
   "outputs": [
    {
     "name": "stdout",
     "output_type": "stream",
     "text": [
      "1213 25\n",
      "[(1, 23), (3, 23), (5, 23), (14, 24), (31, 24), (43, 24), (44, 24), (63, 24), (68, 24), (69, 24), (81, 24), (85, 24), (89, 24), (94, 24), (108, 24), (115, 24), (119, 24), (122, 24), (152, 24), (168, 24), (179, 24), (193, 24), (199, 24), (254, 24), (270, 24), (272, 24), (284, 24), (302, 24), (314, 24), (343, 24), (360, 24), (401, 24), (408, 24), (412, 24), (420, 24), (428, 24), (435, 24), (439, 24), (457, 24), (485, 24), (503, 24), (510, 24), (546, 24), (550, 24), (574, 24), (619, 24), (621, 24), (635, 24), (658, 24), (661, 24), (695, 24), (699, 24), (727, 24), (737, 24), (743, 24), (744, 24), (748, 24), (828, 24), (834, 24), (845, 24), (862, 24), (863, 24), (872, 24), (874, 24), (905, 24), (906, 24), (911, 24), (917, 24), (959, 24), (963, 24), (973, 24), (974, 24), (1036, 24), (1071, 24), (1078, 24), (1087, 24), (1088, 24), (1093, 24), (1127, 24), (1134, 24), (1137, 24), (1142, 24), (1156, 24), (1157, 24), (1158, 24), (1159, 24), (1181, 24), (1206, 24), (1212, 24)]\n"
     ]
    }
   ],
   "source": [
    "print len_max_index,len_max\n",
    "print ind"
   ]
  },
  {
   "cell_type": "markdown",
   "metadata": {
    "collapsed": false
   },
   "source": [
    "We can see above that  index 1213 has the largest number of table contents we'll focus on that to get the \n",
    "table contents"
   ]
  },
  {
   "cell_type": "code",
   "execution_count": 224,
   "metadata": {
    "collapsed": false,
    "scrolled": false
   },
   "outputs": [
    {
     "data": {
      "text/plain": [
       "[\"(u'Brand, Seller, or Collection Name'\",\n",
       " \"(u'Model number'\",\n",
       " \"(u'Part Number'\",\n",
       " \"(u'Model Year'\",\n",
       " \"(u'Item Shape'\",\n",
       " \"(u'Dial window material type\\\\ufeff'\",\n",
       " \"(u'Display Type'\",\n",
       " \"(u'Clasp'\",\n",
       " \"(u'Metal stamp'\",\n",
       " \"(u'Case material'\",\n",
       " \"(u'Case diameter'\",\n",
       " \"(u'Case Thickness'\",\n",
       " \"(u'Band Material'\",\n",
       " \"(u'Band length'\",\n",
       " \"(u'Band width'\",\n",
       " \"(u'Band Color'\",\n",
       " \"(u'Dial color'\",\n",
       " \"(u'Bezel material'\",\n",
       " \"(u'Bezel function\\\\ufeff'\",\n",
       " \"(u'Calendar\\\\ufeff'\",\n",
       " \"(u'Special features'\",\n",
       " \"(u'Item weight'\",\n",
       " \"(u'Movement\\\\ufeff'\",\n",
       " \"(u'Water pressure resistance'\",\n",
       " \"(u'Water resistant depth'\"]"
      ]
     },
     "execution_count": 224,
     "metadata": {},
     "output_type": "execute_result"
    }
   ],
   "source": [
    "#Extracting the Column names\n",
    "prod_table = (results[1213][1])\n",
    "products = []\n",
    "column_names = []\n",
    "for i in prod_table:\n",
    "    column_names.append(str(i.rsplit(', u')[0]))\n",
    "    products.append(i.rsplit(', u')[1])\n",
    "column_names"
   ]
  },
  {
   "cell_type": "markdown",
   "metadata": {
    "collapsed": true
   },
   "source": [
    "column_names"
   ]
  },
  {
   "cell_type": "code",
   "execution_count": 221,
   "metadata": {
    "collapsed": false
   },
   "outputs": [],
   "source": [
    "columns = []\n",
    "for col in column_names:\n",
    "    columns.append(((col.replace(\"(\",\"\")).replace(\"u'\",\"\")).replace(\"'\",\"\"))"
   ]
  },
  {
   "cell_type": "code",
   "execution_count": 222,
   "metadata": {
    "collapsed": false
   },
   "outputs": [
    {
     "data": {
      "text/plain": [
       "['Brand, Seller, or Collection Name',\n",
       " 'Model number',\n",
       " 'Part Number',\n",
       " 'Model Year',\n",
       " 'Item Shape',\n",
       " 'Dial window material type\\\\ufeff',\n",
       " 'Display Type',\n",
       " 'Clasp',\n",
       " 'Metal stamp',\n",
       " 'Case material',\n",
       " 'Case diameter',\n",
       " 'Case Thickness',\n",
       " 'Band Material',\n",
       " 'Band length',\n",
       " 'Band width',\n",
       " 'Band Color',\n",
       " 'Dial color',\n",
       " 'Bezel material',\n",
       " 'Bezel function\\\\ufeff',\n",
       " 'Calendar\\\\ufeff',\n",
       " 'Special features',\n",
       " 'Item weight',\n",
       " 'Movement\\\\ufeff',\n",
       " 'Water pressure resistance',\n",
       " 'Water resistant depth']"
      ]
     },
     "execution_count": 222,
     "metadata": {},
     "output_type": "execute_result"
    }
   ],
   "source": [
    "columns"
   ]
  },
  {
   "cell_type": "code",
   "execution_count": 225,
   "metadata": {
    "collapsed": false
   },
   "outputs": [
    {
     "data": {
      "text/plain": [
       "[u\"'Citizen')\",\n",
       " u\"'AT4004-52E')\",\n",
       " u\"'AT4004-52E')\",\n",
       " u\"'2011')\",\n",
       " u\"'Round')\",\n",
       " u\"'Anti reflective sapphire')\",\n",
       " u\"'Analog')\",\n",
       " u\"'Fold-Over Clasp with Hidden Double Push-Button\\\\ufeff')\",\n",
       " u\"'None')\",\n",
       " u\"'Stainless steel')\",\n",
       " u\"'42 millimeters')\",\n",
       " u\"'13 millimeters')\",\n",
       " u\"'Two-tone stainless steel')\",\n",
       " u'\"Men\\'s Standard\")',\n",
       " u\"'24 millimeters')\",\n",
       " u\"'Silver')\",\n",
       " u\"'Black')\",\n",
       " u\"'Stainless steel')\",\n",
       " u\"'Stationary')\",\n",
       " u\"'Perpetual calendar')\",\n",
       " u\"'Radio controlled, Chronograph, Luminous, Stop watch, Tachometer')\",\n",
       " u\"'6.24 Ounces')\",\n",
       " u\"'Japanese quartz')\",\n",
       " u\"'20 bar')\",\n",
       " u\"'660 Feet')\"]"
      ]
     },
     "execution_count": 225,
     "metadata": {},
     "output_type": "execute_result"
    }
   ],
   "source": [
    "products"
   ]
  },
  {
   "cell_type": "code",
   "execution_count": 315,
   "metadata": {
    "collapsed": false
   },
   "outputs": [
    {
     "ename": "ValueError",
     "evalue": "If using all scalar values, you must pass an index",
     "output_type": "error",
     "traceback": [
      "\u001b[0;31m---------------------------------------------------------------------------\u001b[0m",
      "\u001b[0;31mValueError\u001b[0m                                Traceback (most recent call last)",
      "\u001b[0;32m<ipython-input-315-83271428d3e9>\u001b[0m in \u001b[0;36m<module>\u001b[0;34m()\u001b[0m\n\u001b[0;32m----> 1\u001b[0;31m \u001b[0mpd\u001b[0m\u001b[0;34m.\u001b[0m\u001b[0mDataFrame\u001b[0m\u001b[0;34m(\u001b[0m\u001b[0mresults\u001b[0m\u001b[0;34m[\u001b[0m\u001b[0;36m1\u001b[0m\u001b[0;34m]\u001b[0m\u001b[0;34m[\u001b[0m\u001b[0;36m1\u001b[0m\u001b[0;34m]\u001b[0m\u001b[0;34m)\u001b[0m\u001b[0;34m\u001b[0m\u001b[0m\n\u001b[0m",
      "\u001b[0;32m/Users/Iskandar/anaconda/lib/python2.7/site-packages/pandas/core/frame.pyc\u001b[0m in \u001b[0;36m__init__\u001b[0;34m(self, data, index, columns, dtype, copy)\u001b[0m\n\u001b[1;32m    224\u001b[0m                                  dtype=dtype, copy=copy)\n\u001b[1;32m    225\u001b[0m         \u001b[0;32melif\u001b[0m \u001b[0misinstance\u001b[0m\u001b[0;34m(\u001b[0m\u001b[0mdata\u001b[0m\u001b[0;34m,\u001b[0m \u001b[0mdict\u001b[0m\u001b[0;34m)\u001b[0m\u001b[0;34m:\u001b[0m\u001b[0;34m\u001b[0m\u001b[0m\n\u001b[0;32m--> 226\u001b[0;31m             \u001b[0mmgr\u001b[0m \u001b[0;34m=\u001b[0m \u001b[0mself\u001b[0m\u001b[0;34m.\u001b[0m\u001b[0m_init_dict\u001b[0m\u001b[0;34m(\u001b[0m\u001b[0mdata\u001b[0m\u001b[0;34m,\u001b[0m \u001b[0mindex\u001b[0m\u001b[0;34m,\u001b[0m \u001b[0mcolumns\u001b[0m\u001b[0;34m,\u001b[0m \u001b[0mdtype\u001b[0m\u001b[0;34m=\u001b[0m\u001b[0mdtype\u001b[0m\u001b[0;34m)\u001b[0m\u001b[0;34m\u001b[0m\u001b[0m\n\u001b[0m\u001b[1;32m    227\u001b[0m         \u001b[0;32melif\u001b[0m \u001b[0misinstance\u001b[0m\u001b[0;34m(\u001b[0m\u001b[0mdata\u001b[0m\u001b[0;34m,\u001b[0m \u001b[0mma\u001b[0m\u001b[0;34m.\u001b[0m\u001b[0mMaskedArray\u001b[0m\u001b[0;34m)\u001b[0m\u001b[0;34m:\u001b[0m\u001b[0;34m\u001b[0m\u001b[0m\n\u001b[1;32m    228\u001b[0m             \u001b[0;32mimport\u001b[0m \u001b[0mnumpy\u001b[0m\u001b[0;34m.\u001b[0m\u001b[0mma\u001b[0m\u001b[0;34m.\u001b[0m\u001b[0mmrecords\u001b[0m \u001b[0;32mas\u001b[0m \u001b[0mmrecords\u001b[0m\u001b[0;34m\u001b[0m\u001b[0m\n",
      "\u001b[0;32m/Users/Iskandar/anaconda/lib/python2.7/site-packages/pandas/core/frame.pyc\u001b[0m in \u001b[0;36m_init_dict\u001b[0;34m(self, data, index, columns, dtype)\u001b[0m\n\u001b[1;32m    361\u001b[0m \u001b[0;34m\u001b[0m\u001b[0m\n\u001b[1;32m    362\u001b[0m         return _arrays_to_mgr(arrays, data_names, index, columns,\n\u001b[0;32m--> 363\u001b[0;31m                               dtype=dtype)\n\u001b[0m\u001b[1;32m    364\u001b[0m \u001b[0;34m\u001b[0m\u001b[0m\n\u001b[1;32m    365\u001b[0m     def _init_ndarray(self, values, index, columns, dtype=None,\n",
      "\u001b[0;32m/Users/Iskandar/anaconda/lib/python2.7/site-packages/pandas/core/frame.pyc\u001b[0m in \u001b[0;36m_arrays_to_mgr\u001b[0;34m(arrays, arr_names, index, columns, dtype)\u001b[0m\n\u001b[1;32m   5156\u001b[0m     \u001b[0;31m# figure out the index, if necessary\u001b[0m\u001b[0;34m\u001b[0m\u001b[0;34m\u001b[0m\u001b[0m\n\u001b[1;32m   5157\u001b[0m     \u001b[0;32mif\u001b[0m \u001b[0mindex\u001b[0m \u001b[0;32mis\u001b[0m \u001b[0mNone\u001b[0m\u001b[0;34m:\u001b[0m\u001b[0;34m\u001b[0m\u001b[0m\n\u001b[0;32m-> 5158\u001b[0;31m         \u001b[0mindex\u001b[0m \u001b[0;34m=\u001b[0m \u001b[0mextract_index\u001b[0m\u001b[0;34m(\u001b[0m\u001b[0marrays\u001b[0m\u001b[0;34m)\u001b[0m\u001b[0;34m\u001b[0m\u001b[0m\n\u001b[0m\u001b[1;32m   5159\u001b[0m     \u001b[0;32melse\u001b[0m\u001b[0;34m:\u001b[0m\u001b[0;34m\u001b[0m\u001b[0m\n\u001b[1;32m   5160\u001b[0m         \u001b[0mindex\u001b[0m \u001b[0;34m=\u001b[0m \u001b[0m_ensure_index\u001b[0m\u001b[0;34m(\u001b[0m\u001b[0mindex\u001b[0m\u001b[0;34m)\u001b[0m\u001b[0;34m\u001b[0m\u001b[0m\n",
      "\u001b[0;32m/Users/Iskandar/anaconda/lib/python2.7/site-packages/pandas/core/frame.pyc\u001b[0m in \u001b[0;36mextract_index\u001b[0;34m(data)\u001b[0m\n\u001b[1;32m   5195\u001b[0m \u001b[0;34m\u001b[0m\u001b[0m\n\u001b[1;32m   5196\u001b[0m         \u001b[0;32mif\u001b[0m \u001b[0;32mnot\u001b[0m \u001b[0mindexes\u001b[0m \u001b[0;32mand\u001b[0m \u001b[0;32mnot\u001b[0m \u001b[0mraw_lengths\u001b[0m\u001b[0;34m:\u001b[0m\u001b[0;34m\u001b[0m\u001b[0m\n\u001b[0;32m-> 5197\u001b[0;31m             raise ValueError('If using all scalar values, you must pass'\n\u001b[0m\u001b[1;32m   5198\u001b[0m                              ' an index')\n\u001b[1;32m   5199\u001b[0m \u001b[0;34m\u001b[0m\u001b[0m\n",
      "\u001b[0;31mValueError\u001b[0m: If using all scalar values, you must pass an index"
     ]
    }
   ],
   "source": [
    "pd.DataFrame(results[1][1])"
   ]
  },
  {
   "cell_type": "code",
   "execution_count": 231,
   "metadata": {
    "collapsed": false
   },
   "outputs": [
    {
     "ename": "ValueError",
     "evalue": "No JSON object could be decoded",
     "output_type": "error",
     "traceback": [
      "\u001b[0;31m---------------------------------------------------------------------------\u001b[0m",
      "\u001b[0;31mValueError\u001b[0m                                Traceback (most recent call last)",
      "\u001b[0;32m<ipython-input-231-0b8cb1460e30>\u001b[0m in \u001b[0;36m<module>\u001b[0;34m()\u001b[0m\n\u001b[1;32m      1\u001b[0m \u001b[0;32mimport\u001b[0m \u001b[0mjson\u001b[0m\u001b[0;34m\u001b[0m\u001b[0m\n\u001b[1;32m      2\u001b[0m \u001b[0;32mfor\u001b[0m \u001b[0mi\u001b[0m \u001b[0;32min\u001b[0m  \u001b[0mprod_table\u001b[0m\u001b[0;34m:\u001b[0m\u001b[0;34m\u001b[0m\u001b[0m\n\u001b[0;32m----> 3\u001b[0;31m     \u001b[0mjson\u001b[0m\u001b[0;34m.\u001b[0m\u001b[0mloads\u001b[0m\u001b[0;34m(\u001b[0m\u001b[0mi\u001b[0m\u001b[0;34m)\u001b[0m\u001b[0;34m\u001b[0m\u001b[0m\n\u001b[0m",
      "\u001b[0;32m/Users/Iskandar/anaconda/lib/python2.7/json/__init__.pyc\u001b[0m in \u001b[0;36mloads\u001b[0;34m(s, encoding, cls, object_hook, parse_float, parse_int, parse_constant, object_pairs_hook, **kw)\u001b[0m\n\u001b[1;32m    337\u001b[0m             \u001b[0mparse_int\u001b[0m \u001b[0;32mis\u001b[0m \u001b[0mNone\u001b[0m \u001b[0;32mand\u001b[0m \u001b[0mparse_float\u001b[0m \u001b[0;32mis\u001b[0m \u001b[0mNone\u001b[0m \u001b[0;32mand\u001b[0m\u001b[0;34m\u001b[0m\u001b[0m\n\u001b[1;32m    338\u001b[0m             parse_constant is None and object_pairs_hook is None and not kw):\n\u001b[0;32m--> 339\u001b[0;31m         \u001b[0;32mreturn\u001b[0m \u001b[0m_default_decoder\u001b[0m\u001b[0;34m.\u001b[0m\u001b[0mdecode\u001b[0m\u001b[0;34m(\u001b[0m\u001b[0ms\u001b[0m\u001b[0;34m)\u001b[0m\u001b[0;34m\u001b[0m\u001b[0m\n\u001b[0m\u001b[1;32m    340\u001b[0m     \u001b[0;32mif\u001b[0m \u001b[0mcls\u001b[0m \u001b[0;32mis\u001b[0m \u001b[0mNone\u001b[0m\u001b[0;34m:\u001b[0m\u001b[0;34m\u001b[0m\u001b[0m\n\u001b[1;32m    341\u001b[0m         \u001b[0mcls\u001b[0m \u001b[0;34m=\u001b[0m \u001b[0mJSONDecoder\u001b[0m\u001b[0;34m\u001b[0m\u001b[0m\n",
      "\u001b[0;32m/Users/Iskandar/anaconda/lib/python2.7/json/decoder.pyc\u001b[0m in \u001b[0;36mdecode\u001b[0;34m(self, s, _w)\u001b[0m\n\u001b[1;32m    362\u001b[0m \u001b[0;34m\u001b[0m\u001b[0m\n\u001b[1;32m    363\u001b[0m         \"\"\"\n\u001b[0;32m--> 364\u001b[0;31m         \u001b[0mobj\u001b[0m\u001b[0;34m,\u001b[0m \u001b[0mend\u001b[0m \u001b[0;34m=\u001b[0m \u001b[0mself\u001b[0m\u001b[0;34m.\u001b[0m\u001b[0mraw_decode\u001b[0m\u001b[0;34m(\u001b[0m\u001b[0ms\u001b[0m\u001b[0;34m,\u001b[0m \u001b[0midx\u001b[0m\u001b[0;34m=\u001b[0m\u001b[0m_w\u001b[0m\u001b[0;34m(\u001b[0m\u001b[0ms\u001b[0m\u001b[0;34m,\u001b[0m \u001b[0;36m0\u001b[0m\u001b[0;34m)\u001b[0m\u001b[0;34m.\u001b[0m\u001b[0mend\u001b[0m\u001b[0;34m(\u001b[0m\u001b[0;34m)\u001b[0m\u001b[0;34m)\u001b[0m\u001b[0;34m\u001b[0m\u001b[0m\n\u001b[0m\u001b[1;32m    365\u001b[0m         \u001b[0mend\u001b[0m \u001b[0;34m=\u001b[0m \u001b[0m_w\u001b[0m\u001b[0;34m(\u001b[0m\u001b[0ms\u001b[0m\u001b[0;34m,\u001b[0m \u001b[0mend\u001b[0m\u001b[0;34m)\u001b[0m\u001b[0;34m.\u001b[0m\u001b[0mend\u001b[0m\u001b[0;34m(\u001b[0m\u001b[0;34m)\u001b[0m\u001b[0;34m\u001b[0m\u001b[0m\n\u001b[1;32m    366\u001b[0m         \u001b[0;32mif\u001b[0m \u001b[0mend\u001b[0m \u001b[0;34m!=\u001b[0m \u001b[0mlen\u001b[0m\u001b[0;34m(\u001b[0m\u001b[0ms\u001b[0m\u001b[0;34m)\u001b[0m\u001b[0;34m:\u001b[0m\u001b[0;34m\u001b[0m\u001b[0m\n",
      "\u001b[0;32m/Users/Iskandar/anaconda/lib/python2.7/json/decoder.pyc\u001b[0m in \u001b[0;36mraw_decode\u001b[0;34m(self, s, idx)\u001b[0m\n\u001b[1;32m    380\u001b[0m             \u001b[0mobj\u001b[0m\u001b[0;34m,\u001b[0m \u001b[0mend\u001b[0m \u001b[0;34m=\u001b[0m \u001b[0mself\u001b[0m\u001b[0;34m.\u001b[0m\u001b[0mscan_once\u001b[0m\u001b[0;34m(\u001b[0m\u001b[0ms\u001b[0m\u001b[0;34m,\u001b[0m \u001b[0midx\u001b[0m\u001b[0;34m)\u001b[0m\u001b[0;34m\u001b[0m\u001b[0m\n\u001b[1;32m    381\u001b[0m         \u001b[0;32mexcept\u001b[0m \u001b[0mStopIteration\u001b[0m\u001b[0;34m:\u001b[0m\u001b[0;34m\u001b[0m\u001b[0m\n\u001b[0;32m--> 382\u001b[0;31m             \u001b[0;32mraise\u001b[0m \u001b[0mValueError\u001b[0m\u001b[0;34m(\u001b[0m\u001b[0;34m\"No JSON object could be decoded\"\u001b[0m\u001b[0;34m)\u001b[0m\u001b[0;34m\u001b[0m\u001b[0m\n\u001b[0m\u001b[1;32m    383\u001b[0m         \u001b[0;32mreturn\u001b[0m \u001b[0mobj\u001b[0m\u001b[0;34m,\u001b[0m \u001b[0mend\u001b[0m\u001b[0;34m\u001b[0m\u001b[0m\n",
      "\u001b[0;31mValueError\u001b[0m: No JSON object could be decoded"
     ]
    }
   ],
   "source": [
    "import json\n",
    "for i in  prod_table:\n",
    "    json.loads(i)"
   ]
  },
  {
   "cell_type": "code",
   "execution_count": 247,
   "metadata": {
    "collapsed": true
   },
   "outputs": [],
   "source": [
    "db2 = client.images2\n",
    "col2 = db2.image_data\n",
    "\n"
   ]
  },
  {
   "cell_type": "code",
   "execution_count": 248,
   "metadata": {
    "collapsed": false
   },
   "outputs": [],
   "source": [
    "x = col2.find_one()['prod_info_table']"
   ]
  },
  {
   "cell_type": "code",
   "execution_count": 249,
   "metadata": {
    "collapsed": false
   },
   "outputs": [
    {
     "name": "stdout",
     "output_type": "stream",
     "text": [
      "[u'Brand, Seller, or Collection Name']\n",
      "[u'Model number']\n",
      "[u'Part Number']\n",
      "[u'Model Year']\n",
      "[u'Item Shape']\n",
      "[u'Display Type']\n",
      "[u'Clasp']\n",
      "[u'Case material']\n",
      "[u'Case diameter']\n",
      "[u'Case Thickness']\n",
      "[u'Band Material']\n",
      "[u'Band length']\n",
      "[u'Band width']\n",
      "[u'Band Color']\n",
      "[u'Dial color']\n",
      "[u'Bezel material']\n",
      "[u'Special features']\n",
      "[u'Item weight']\n",
      "[u'Water resistant depth']\n"
     ]
    }
   ],
   "source": [
    "for i in x:\n",
    "    print i.keys()\n",
    "    "
   ]
  },
  {
   "cell_type": "code",
   "execution_count": null,
   "metadata": {
    "collapsed": true
   },
   "outputs": [],
   "source": []
  }
 ],
 "metadata": {
  "kernelspec": {
   "display_name": "Python 2",
   "language": "python",
   "name": "python2"
  },
  "language_info": {
   "codemirror_mode": {
    "name": "ipython",
    "version": 2
   },
   "file_extension": ".py",
   "mimetype": "text/x-python",
   "name": "python",
   "nbconvert_exporter": "python",
   "pygments_lexer": "ipython2",
   "version": "2.7.11"
  }
 },
 "nbformat": 4,
 "nbformat_minor": 0
}
