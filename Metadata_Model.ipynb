{
 "cells": [
  {
   "cell_type": "code",
   "execution_count": 299,
   "metadata": {
    "collapsed": true
   },
   "outputs": [],
   "source": [
    "from pymongo import MongoClient\n",
    "import pandas as pd\n",
    "import numpy as np"
   ]
  },
  {
   "cell_type": "code",
   "execution_count": 300,
   "metadata": {
    "collapsed": true
   },
   "outputs": [],
   "source": [
    "client = MongoClient()"
   ]
  },
  {
   "cell_type": "code",
   "execution_count": 301,
   "metadata": {
    "collapsed": true
   },
   "outputs": [],
   "source": [
    "#Connecting to existing database and table within the database\n",
    "db = client.images2\n",
    "collection= db.image_data"
   ]
  },
  {
   "cell_type": "code",
   "execution_count": 302,
   "metadata": {
    "collapsed": false
   },
   "outputs": [
    {
     "name": "stdout",
     "output_type": "stream",
     "text": [
      "Database(MongoClient(host=['localhost:27017'], document_class=dict, tz_aware=False, connect=True), u'images2')\n",
      "Collection(Database(MongoClient(host=['localhost:27017'], document_class=dict, tz_aware=False, connect=True), u'images2'), u'image_data')\n"
     ]
    }
   ],
   "source": [
    "print db\n",
    "print collection"
   ]
  },
  {
   "cell_type": "code",
   "execution_count": 303,
   "metadata": {
    "collapsed": false
   },
   "outputs": [
    {
     "name": "stdout",
     "output_type": "stream",
     "text": [
      "{u'prod_info_table': {u'Item Shape': u'Round', u'Part Number': u'8932', u'Display Type': u'Analog', u'Metal stamp': u'316L', u'Case diameter': u'37 millimeters', u'Band width': u'15 millimeters', u'Dial color': u'Black', u'Model number': u'INVICTA-8932', u'Item weight': u'8.80 Ounces', u'Band Material': u'Stainless steel', u'Case material': u'Stainless steel', u'Band length': u'mens', u'Bezel material': u'Stainless steel', u'Special features': u'push-pull-crown, Luminous', u'Water resistant depth': u'660 Feet', u'Model Year': u'2014', u'Case Thickness': u'13 millimeters', u'Band Color': u'Silver', u'Brand, Seller, or Collection Name': u'Invicta'}, u'img_no': 29}\n"
     ]
    }
   ],
   "source": [
    "#Testing retreving data from Mongodb. Imp for when an img-no doesnt exist\n",
    "cur = collection.find({'img_no':29},{'_id':0,'img_no':1,'prod_info_table':1})\n",
    "cur.rewind()\n",
    "\n",
    "try:\n",
    "    print (cur)[0]\n",
    "except:\n",
    "    print \"Not readable error\"\n",
    "    "
   ]
  },
  {
   "cell_type": "code",
   "execution_count": 292,
   "metadata": {
    "collapsed": false
   },
   "outputs": [],
   "source": [
    "#total number of docs in collections\n",
    "total_docs = collection.count()"
   ]
  },
  {
   "cell_type": "code",
   "execution_count": 338,
   "metadata": {
    "collapsed": false
   },
   "outputs": [],
   "source": [
    "#getting the data(img_no and prod_info_table) out of Mongodb\n",
    "#5516 is the max img_no known through looking at data\n",
    "prod_desc_table = []\n",
    "img_no = []\n",
    "for i in xrange(5940):\n",
    "    cursor = collection.find({'img_no':i},{'_id':0,'img_no':1,'prod_info_table':1})\n",
    "    #print cursor[0]\n",
    "    cursor.rewind()\n",
    "    try: \n",
    "        #We do cursor of 0 because cursor only has 1 result a dictionary. \n",
    "        #We are adding the img_no as another feature in the prod_info_table dictionary\n",
    "        #This is to keep track of the image number for each row . Will be used in retirving the results when we know th\n",
    "        #nearest neigbours for the model\n",
    "        \n",
    "        dict = cursor[0][\"prod_info_table\"]\n",
    "        \n",
    "        dict['Img_no'] = cursor[0][\"img_no\"]\n",
    "        \n",
    "        prod_desc_table.append(dict)\n",
    "    \n",
    "        \n",
    "    except:\n",
    "        pass # Some number might not exist in between due to broken links while scraping. \n",
    "        #This will ensure we move to the next image number without raising an error in that case"
   ]
  },
  {
   "cell_type": "code",
   "execution_count": 339,
   "metadata": {
    "collapsed": false
   },
   "outputs": [],
   "source": [
    "df = pd.DataFrame(prod_desc_table)"
   ]
  },
  {
   "cell_type": "code",
   "execution_count": 342,
   "metadata": {
    "collapsed": false
   },
   "outputs": [
    {
     "data": {
      "text/plain": [
       "27"
      ]
     },
     "execution_count": 342,
     "metadata": {},
     "output_type": "execute_result"
    }
   ],
   "source": [
    "len(df.columns)"
   ]
  },
  {
   "cell_type": "code",
   "execution_count": 355,
   "metadata": {
    "collapsed": false
   },
   "outputs": [
    {
     "data": {
      "text/plain": [
       "1"
      ]
     },
     "execution_count": 355,
     "metadata": {},
     "output_type": "execute_result"
    }
   ],
   "source": [
    "sum(df['Battery description'] == 'battery_type_lithium_metal')"
   ]
  },
  {
   "cell_type": "code",
   "execution_count": 350,
   "metadata": {
    "collapsed": false
   },
   "outputs": [
    {
     "data": {
      "text/plain": [
       "array([nan, u'battery_type_lithium_metal'], dtype=object)"
      ]
     },
     "execution_count": 350,
     "metadata": {},
     "output_type": "execute_result"
    }
   ],
   "source": [
    "df['Battery description'].unique() "
   ]
  },
  {
   "cell_type": "code",
   "execution_count": 356,
   "metadata": {
    "collapsed": false
   },
   "outputs": [
    {
     "data": {
      "text/plain": [
       "Index([                       u'Band Color',\n",
       "                           u'Band Material',\n",
       "                             u'Band length',\n",
       "                              u'Band width',\n",
       "                     u'Battery description',\n",
       "                          u'Bezel material',\n",
       "       u'Brand, Seller, or Collection Name',\n",
       "                          u'Case Thickness',\n",
       "                           u'Case diameter',\n",
       "                           u'Case material',\n",
       "                                   u'Clasp',\n",
       "                              u'Dial color',\n",
       "                            u'Display Type',\n",
       "                                  u'Height',\n",
       "                                  u'Img_no',\n",
       "                             u'Item Length',\n",
       "                              u'Item Shape',\n",
       "                             u'Item weight',\n",
       "                                  u'Length',\n",
       "                                u'Material',\n",
       "                             u'Metal stamp',\n",
       "                              u'Model Year',\n",
       "                            u'Model number',\n",
       "                             u'Part Number',\n",
       "                        u'Special features',\n",
       "               u'Water pressure resistance',\n",
       "                   u'Water resistant depth'],\n",
       "      dtype='object')"
      ]
     },
     "execution_count": 356,
     "metadata": {},
     "output_type": "execute_result"
    }
   ],
   "source": [
    "df.columns"
   ]
  },
  {
   "cell_type": "code",
   "execution_count": 357,
   "metadata": {
    "collapsed": false
   },
   "outputs": [
    {
     "data": {
      "text/html": [
       "<div>\n",
       "<table border=\"1\" class=\"dataframe\">\n",
       "  <thead>\n",
       "    <tr style=\"text-align: right;\">\n",
       "      <th></th>\n",
       "      <th>Band Color</th>\n",
       "      <th>Band Material</th>\n",
       "      <th>Band length</th>\n",
       "      <th>Band width</th>\n",
       "      <th>Battery description</th>\n",
       "      <th>Bezel material</th>\n",
       "      <th>Brand, Seller, or Collection Name</th>\n",
       "      <th>Case Thickness</th>\n",
       "      <th>Case diameter</th>\n",
       "      <th>Case material</th>\n",
       "    </tr>\n",
       "  </thead>\n",
       "  <tbody>\n",
       "    <tr>\n",
       "      <th>0</th>\n",
       "      <td>Black</td>\n",
       "      <td>Resin</td>\n",
       "      <td>Men's Standard</td>\n",
       "      <td>22 millimeters</td>\n",
       "      <td>NaN</td>\n",
       "      <td>Resin</td>\n",
       "      <td>Casio</td>\n",
       "      <td>12 millimeters</td>\n",
       "      <td>43 millimeters</td>\n",
       "      <td>Resin</td>\n",
       "    </tr>\n",
       "    <tr>\n",
       "      <th>1</th>\n",
       "      <td>Black</td>\n",
       "      <td>Calfskin</td>\n",
       "      <td>Mens Standard</td>\n",
       "      <td>18 millimeters</td>\n",
       "      <td>NaN</td>\n",
       "      <td>Brass</td>\n",
       "      <td>Timex</td>\n",
       "      <td>8 millimeters</td>\n",
       "      <td>35 millimeters</td>\n",
       "      <td>Brass</td>\n",
       "    </tr>\n",
       "    <tr>\n",
       "      <th>2</th>\n",
       "      <td>Black</td>\n",
       "      <td>Resin</td>\n",
       "      <td>mens</td>\n",
       "      <td>18 millimeters</td>\n",
       "      <td>NaN</td>\n",
       "      <td>Plastic</td>\n",
       "      <td>Casio</td>\n",
       "      <td>8 millimeters</td>\n",
       "      <td>35 millimeters</td>\n",
       "      <td>Plastic</td>\n",
       "    </tr>\n",
       "    <tr>\n",
       "      <th>3</th>\n",
       "      <td>Black</td>\n",
       "      <td>Resin</td>\n",
       "      <td>mens</td>\n",
       "      <td>20 millimeters</td>\n",
       "      <td>NaN</td>\n",
       "      <td>Resin</td>\n",
       "      <td>Casio</td>\n",
       "      <td>7.8 millimeters</td>\n",
       "      <td>35 millimeters</td>\n",
       "      <td>Resin</td>\n",
       "    </tr>\n",
       "    <tr>\n",
       "      <th>4</th>\n",
       "      <td>Biege</td>\n",
       "      <td>Nylon</td>\n",
       "      <td>Mens-Standard</td>\n",
       "      <td>20 millimeters</td>\n",
       "      <td>NaN</td>\n",
       "      <td>Stainless Steel</td>\n",
       "      <td>Casio</td>\n",
       "      <td>11 millimeters</td>\n",
       "      <td>41 millimeters</td>\n",
       "      <td>Resin</td>\n",
       "    </tr>\n",
       "  </tbody>\n",
       "</table>\n",
       "</div>"
      ],
      "text/plain": [
       "  Band Color Band Material     Band length      Band width  \\\n",
       "0      Black         Resin  Men's Standard  22 millimeters   \n",
       "1      Black      Calfskin   Mens Standard  18 millimeters   \n",
       "2      Black         Resin            mens  18 millimeters   \n",
       "3      Black         Resin            mens  20 millimeters   \n",
       "4      Biege         Nylon   Mens-Standard  20 millimeters   \n",
       "\n",
       "  Battery description   Bezel material Brand, Seller, or Collection Name  \\\n",
       "0                 NaN            Resin                             Casio   \n",
       "1                 NaN            Brass                             Timex   \n",
       "2                 NaN          Plastic                             Casio   \n",
       "3                 NaN            Resin                             Casio   \n",
       "4                 NaN  Stainless Steel                             Casio   \n",
       "\n",
       "    Case Thickness   Case diameter Case material  \n",
       "0   12 millimeters  43 millimeters         Resin  \n",
       "1    8 millimeters  35 millimeters         Brass  \n",
       "2    8 millimeters  35 millimeters       Plastic  \n",
       "3  7.8 millimeters  35 millimeters         Resin  \n",
       "4   11 millimeters  41 millimeters         Resin  "
      ]
     },
     "execution_count": 357,
     "metadata": {},
     "output_type": "execute_result"
    }
   ],
   "source": [
    "df.iloc[:,:10].head()"
   ]
  },
  {
   "cell_type": "code",
   "execution_count": 359,
   "metadata": {
    "collapsed": false
   },
   "outputs": [
    {
     "data": {
      "text/html": [
       "<div>\n",
       "<table border=\"1\" class=\"dataframe\">\n",
       "  <thead>\n",
       "    <tr style=\"text-align: right;\">\n",
       "      <th></th>\n",
       "      <th>Clasp</th>\n",
       "      <th>Dial color</th>\n",
       "      <th>Display Type</th>\n",
       "      <th>Height</th>\n",
       "      <th>Img_no</th>\n",
       "      <th>Item Length</th>\n",
       "      <th>Item Shape</th>\n",
       "      <th>Item weight</th>\n",
       "      <th>Length</th>\n",
       "      <th>Material</th>\n",
       "    </tr>\n",
       "  </thead>\n",
       "  <tbody>\n",
       "    <tr>\n",
       "      <th>0</th>\n",
       "      <td>Buckle</td>\n",
       "      <td>Black</td>\n",
       "      <td>Analog</td>\n",
       "      <td>NaN</td>\n",
       "      <td>0</td>\n",
       "      <td>NaN</td>\n",
       "      <td>Round</td>\n",
       "      <td>2.08 Ounces</td>\n",
       "      <td>NaN</td>\n",
       "      <td>NaN</td>\n",
       "    </tr>\n",
       "    <tr>\n",
       "      <th>1</th>\n",
       "      <td>Buckle</td>\n",
       "      <td>White</td>\n",
       "      <td>Analog</td>\n",
       "      <td>NaN</td>\n",
       "      <td>1</td>\n",
       "      <td>NaN</td>\n",
       "      <td>Round</td>\n",
       "      <td>1.44 Ounces</td>\n",
       "      <td>NaN</td>\n",
       "      <td>NaN</td>\n",
       "    </tr>\n",
       "    <tr>\n",
       "      <th>2</th>\n",
       "      <td>Buckle</td>\n",
       "      <td>White</td>\n",
       "      <td>Analog</td>\n",
       "      <td>NaN</td>\n",
       "      <td>2</td>\n",
       "      <td>NaN</td>\n",
       "      <td>Round</td>\n",
       "      <td>18.14 Grams</td>\n",
       "      <td>NaN</td>\n",
       "      <td>NaN</td>\n",
       "    </tr>\n",
       "    <tr>\n",
       "      <th>3</th>\n",
       "      <td>Buckle</td>\n",
       "      <td>White</td>\n",
       "      <td>Analog</td>\n",
       "      <td>NaN</td>\n",
       "      <td>3</td>\n",
       "      <td>NaN</td>\n",
       "      <td>Round</td>\n",
       "      <td>NaN</td>\n",
       "      <td>NaN</td>\n",
       "      <td>NaN</td>\n",
       "    </tr>\n",
       "    <tr>\n",
       "      <th>4</th>\n",
       "      <td>Buckle</td>\n",
       "      <td>Beige</td>\n",
       "      <td>Analog</td>\n",
       "      <td>NaN</td>\n",
       "      <td>4</td>\n",
       "      <td>NaN</td>\n",
       "      <td>Round</td>\n",
       "      <td>16 Ounces</td>\n",
       "      <td>NaN</td>\n",
       "      <td>NaN</td>\n",
       "    </tr>\n",
       "  </tbody>\n",
       "</table>\n",
       "</div>"
      ],
      "text/plain": [
       "    Clasp Dial color Display Type Height  Img_no Item Length Item Shape  \\\n",
       "0  Buckle      Black       Analog    NaN       0         NaN      Round   \n",
       "1  Buckle      White       Analog    NaN       1         NaN      Round   \n",
       "2  Buckle      White       Analog    NaN       2         NaN      Round   \n",
       "3  Buckle      White       Analog    NaN       3         NaN      Round   \n",
       "4  Buckle      Beige       Analog    NaN       4         NaN      Round   \n",
       "\n",
       "   Item weight Length Material  \n",
       "0  2.08 Ounces    NaN      NaN  \n",
       "1  1.44 Ounces    NaN      NaN  \n",
       "2  18.14 Grams    NaN      NaN  \n",
       "3          NaN    NaN      NaN  \n",
       "4    16 Ounces    NaN      NaN  "
      ]
     },
     "execution_count": 359,
     "metadata": {},
     "output_type": "execute_result"
    }
   ],
   "source": [
    "df.iloc[:,10:20].head()"
   ]
  },
  {
   "cell_type": "code",
   "execution_count": 361,
   "metadata": {
    "collapsed": false
   },
   "outputs": [
    {
     "data": {
      "text/html": [
       "<div>\n",
       "<table border=\"1\" class=\"dataframe\">\n",
       "  <thead>\n",
       "    <tr style=\"text-align: right;\">\n",
       "      <th></th>\n",
       "      <th>Metal stamp</th>\n",
       "      <th>Model Year</th>\n",
       "      <th>Model number</th>\n",
       "      <th>Part Number</th>\n",
       "      <th>Special features</th>\n",
       "      <th>Water pressure resistance</th>\n",
       "      <th>Water resistant depth</th>\n",
       "    </tr>\n",
       "  </thead>\n",
       "  <tbody>\n",
       "    <tr>\n",
       "      <th>0</th>\n",
       "      <td>NaN</td>\n",
       "      <td>2014</td>\n",
       "      <td>MRW200H-1BV</td>\n",
       "      <td>MRW200H-1BV</td>\n",
       "      <td>Water Resistant</td>\n",
       "      <td>NaN</td>\n",
       "      <td>330 Feet</td>\n",
       "    </tr>\n",
       "    <tr>\n",
       "      <th>1</th>\n",
       "      <td>NaN</td>\n",
       "      <td>2009</td>\n",
       "      <td>T2H281</td>\n",
       "      <td>T2H2819J</td>\n",
       "      <td>measures-seconds, Light</td>\n",
       "      <td>NaN</td>\n",
       "      <td>99 Feet</td>\n",
       "    </tr>\n",
       "    <tr>\n",
       "      <th>2</th>\n",
       "      <td>NaN</td>\n",
       "      <td>2014</td>\n",
       "      <td>MQ24-7B2</td>\n",
       "      <td>MQ24-7B2</td>\n",
       "      <td>Water Resistant</td>\n",
       "      <td>NaN</td>\n",
       "      <td>NaN</td>\n",
       "    </tr>\n",
       "    <tr>\n",
       "      <th>3</th>\n",
       "      <td>NaN</td>\n",
       "      <td>NaN</td>\n",
       "      <td>MQ24-7B</td>\n",
       "      <td>MQ24-7B</td>\n",
       "      <td>Water Resistant</td>\n",
       "      <td>NaN</td>\n",
       "      <td>50</td>\n",
       "    </tr>\n",
       "    <tr>\n",
       "      <th>4</th>\n",
       "      <td>NaN</td>\n",
       "      <td>2014</td>\n",
       "      <td>FT-500WC-5BVCF</td>\n",
       "      <td>FT-500WC-5BVCF</td>\n",
       "      <td>Luminous</td>\n",
       "      <td>NaN</td>\n",
       "      <td>330 Feet</td>\n",
       "    </tr>\n",
       "  </tbody>\n",
       "</table>\n",
       "</div>"
      ],
      "text/plain": [
       "  Metal stamp Model Year    Model number     Part Number  \\\n",
       "0         NaN       2014     MRW200H-1BV     MRW200H-1BV   \n",
       "1         NaN       2009          T2H281        T2H2819J   \n",
       "2         NaN       2014        MQ24-7B2        MQ24-7B2   \n",
       "3         NaN        NaN         MQ24-7B         MQ24-7B   \n",
       "4         NaN       2014  FT-500WC-5BVCF  FT-500WC-5BVCF   \n",
       "\n",
       "          Special features Water pressure resistance Water resistant depth  \n",
       "0          Water Resistant                       NaN              330 Feet  \n",
       "1  measures-seconds, Light                       NaN               99 Feet  \n",
       "2          Water Resistant                       NaN                   NaN  \n",
       "3          Water Resistant                       NaN                    50  \n",
       "4                 Luminous                       NaN              330 Feet  "
      ]
     },
     "execution_count": 361,
     "metadata": {},
     "output_type": "execute_result"
    }
   ],
   "source": [
    "df.iloc[:,20:].head()"
   ]
  },
  {
   "cell_type": "code",
   "execution_count": 365,
   "metadata": {
    "collapsed": false
   },
   "outputs": [
    {
     "data": {
      "text/plain": [
       "Band Color                             83\n",
       "Band Material                          33\n",
       "Band length                           197\n",
       "Band width                             72\n",
       "Battery description                  4956\n",
       "Bezel material                        331\n",
       "Brand, Seller, or Collection Name       0\n",
       "Case Thickness                        105\n",
       "Case diameter                          29\n",
       "Case material                         119\n",
       "Clasp                                1768\n",
       "Dial color                             21\n",
       "Display Type                           72\n",
       "Height                               4956\n",
       "Img_no                                  0\n",
       "Item Length                          4955\n",
       "Item Shape                             73\n",
       "Item weight                          2617\n",
       "Length                               4956\n",
       "Material                             4955\n",
       "Metal stamp                          4460\n",
       "Model Year                           1780\n",
       "Model number                           34\n",
       "Part Number                             6\n",
       "Special features                     1342\n",
       "Water pressure resistance            4956\n",
       "Water resistant depth                 267\n",
       "dtype: int64"
      ]
     },
     "execution_count": 365,
     "metadata": {},
     "output_type": "execute_result"
    }
   ],
   "source": [
    "df.isnull().sum(axis =0)"
   ]
  },
  {
   "cell_type": "code",
   "execution_count": 397,
   "metadata": {
    "collapsed": false
   },
   "outputs": [
    {
     "ename": "ValueError",
     "evalue": "labels ['Battery description' 'Water pressure resistance' 'Material' 'Height'\n 'Item Length' 'Metal stamp' 'Length'] not contained in axis",
     "output_type": "error",
     "traceback": [
      "\u001b[0;31m---------------------------------------------------------------------------\u001b[0m",
      "\u001b[0;31mValueError\u001b[0m                                Traceback (most recent call last)",
      "\u001b[0;32m<ipython-input-397-4120607fcbe1>\u001b[0m in \u001b[0;36m<module>\u001b[0;34m()\u001b[0m\n\u001b[1;32m      1\u001b[0m \u001b[0;31m# Anything with more than  null values is dropped immediately and part number\u001b[0m\u001b[0;34m\u001b[0m\u001b[0;34m\u001b[0m\u001b[0m\n\u001b[0;32m----> 2\u001b[0;31m \u001b[0mdf\u001b[0m\u001b[0;34m.\u001b[0m\u001b[0mdrop\u001b[0m\u001b[0;34m(\u001b[0m\u001b[0;34m[\u001b[0m\u001b[0;34m'Battery description'\u001b[0m\u001b[0;34m,\u001b[0m\u001b[0;34m'Water pressure resistance'\u001b[0m\u001b[0;34m,\u001b[0m\u001b[0;34m'Material'\u001b[0m\u001b[0;34m,\u001b[0m\u001b[0;34m'Height'\u001b[0m\u001b[0;34m,\u001b[0m\u001b[0;34m'Item Length'\u001b[0m\u001b[0;34m,\u001b[0m\u001b[0;34m'Metal stamp'\u001b[0m\u001b[0;34m,\u001b[0m\u001b[0;34m'Length'\u001b[0m\u001b[0;34m,\u001b[0m\u001b[0;34m\"Part Number\"\u001b[0m\u001b[0;34m]\u001b[0m\u001b[0;34m,\u001b[0m\u001b[0maxis\u001b[0m \u001b[0;34m=\u001b[0m\u001b[0;36m1\u001b[0m\u001b[0;34m,\u001b[0m\u001b[0minplace\u001b[0m \u001b[0;34m=\u001b[0m \u001b[0mTrue\u001b[0m\u001b[0;34m)\u001b[0m\u001b[0;34m\u001b[0m\u001b[0m\n\u001b[0m",
      "\u001b[0;32m/Users/Iskandar/anaconda/lib/python2.7/site-packages/pandas/core/generic.pyc\u001b[0m in \u001b[0;36mdrop\u001b[0;34m(self, labels, axis, level, inplace, errors)\u001b[0m\n\u001b[1;32m   1615\u001b[0m                 \u001b[0mnew_axis\u001b[0m \u001b[0;34m=\u001b[0m \u001b[0maxis\u001b[0m\u001b[0;34m.\u001b[0m\u001b[0mdrop\u001b[0m\u001b[0;34m(\u001b[0m\u001b[0mlabels\u001b[0m\u001b[0;34m,\u001b[0m \u001b[0mlevel\u001b[0m\u001b[0;34m=\u001b[0m\u001b[0mlevel\u001b[0m\u001b[0;34m,\u001b[0m \u001b[0merrors\u001b[0m\u001b[0;34m=\u001b[0m\u001b[0merrors\u001b[0m\u001b[0;34m)\u001b[0m\u001b[0;34m\u001b[0m\u001b[0m\n\u001b[1;32m   1616\u001b[0m             \u001b[0;32melse\u001b[0m\u001b[0;34m:\u001b[0m\u001b[0;34m\u001b[0m\u001b[0m\n\u001b[0;32m-> 1617\u001b[0;31m                 \u001b[0mnew_axis\u001b[0m \u001b[0;34m=\u001b[0m \u001b[0maxis\u001b[0m\u001b[0;34m.\u001b[0m\u001b[0mdrop\u001b[0m\u001b[0;34m(\u001b[0m\u001b[0mlabels\u001b[0m\u001b[0;34m,\u001b[0m \u001b[0merrors\u001b[0m\u001b[0;34m=\u001b[0m\u001b[0merrors\u001b[0m\u001b[0;34m)\u001b[0m\u001b[0;34m\u001b[0m\u001b[0m\n\u001b[0m\u001b[1;32m   1618\u001b[0m             \u001b[0mdropped\u001b[0m \u001b[0;34m=\u001b[0m \u001b[0mself\u001b[0m\u001b[0;34m.\u001b[0m\u001b[0mreindex\u001b[0m\u001b[0;34m(\u001b[0m\u001b[0;34m**\u001b[0m\u001b[0;34m{\u001b[0m\u001b[0maxis_name\u001b[0m\u001b[0;34m:\u001b[0m \u001b[0mnew_axis\u001b[0m\u001b[0;34m}\u001b[0m\u001b[0;34m)\u001b[0m\u001b[0;34m\u001b[0m\u001b[0m\n\u001b[1;32m   1619\u001b[0m             \u001b[0;32mtry\u001b[0m\u001b[0;34m:\u001b[0m\u001b[0;34m\u001b[0m\u001b[0m\n",
      "\u001b[0;32m/Users/Iskandar/anaconda/lib/python2.7/site-packages/pandas/core/index.pyc\u001b[0m in \u001b[0;36mdrop\u001b[0;34m(self, labels, errors)\u001b[0m\n\u001b[1;32m   2801\u001b[0m         \u001b[0;32mif\u001b[0m \u001b[0mmask\u001b[0m\u001b[0;34m.\u001b[0m\u001b[0many\u001b[0m\u001b[0;34m(\u001b[0m\u001b[0;34m)\u001b[0m\u001b[0;34m:\u001b[0m\u001b[0;34m\u001b[0m\u001b[0m\n\u001b[1;32m   2802\u001b[0m             \u001b[0;32mif\u001b[0m \u001b[0merrors\u001b[0m \u001b[0;34m!=\u001b[0m \u001b[0;34m'ignore'\u001b[0m\u001b[0;34m:\u001b[0m\u001b[0;34m\u001b[0m\u001b[0m\n\u001b[0;32m-> 2803\u001b[0;31m                 \u001b[0;32mraise\u001b[0m \u001b[0mValueError\u001b[0m\u001b[0;34m(\u001b[0m\u001b[0;34m'labels %s not contained in axis'\u001b[0m \u001b[0;34m%\u001b[0m \u001b[0mlabels\u001b[0m\u001b[0;34m[\u001b[0m\u001b[0mmask\u001b[0m\u001b[0;34m]\u001b[0m\u001b[0;34m)\u001b[0m\u001b[0;34m\u001b[0m\u001b[0m\n\u001b[0m\u001b[1;32m   2804\u001b[0m             \u001b[0mindexer\u001b[0m \u001b[0;34m=\u001b[0m \u001b[0mindexer\u001b[0m\u001b[0;34m[\u001b[0m\u001b[0;34m~\u001b[0m\u001b[0mmask\u001b[0m\u001b[0;34m]\u001b[0m\u001b[0;34m\u001b[0m\u001b[0m\n\u001b[1;32m   2805\u001b[0m         \u001b[0;32mreturn\u001b[0m \u001b[0mself\u001b[0m\u001b[0;34m.\u001b[0m\u001b[0mdelete\u001b[0m\u001b[0;34m(\u001b[0m\u001b[0mindexer\u001b[0m\u001b[0;34m)\u001b[0m\u001b[0;34m\u001b[0m\u001b[0m\n",
      "\u001b[0;31mValueError\u001b[0m: labels ['Battery description' 'Water pressure resistance' 'Material' 'Height'\n 'Item Length' 'Metal stamp' 'Length'] not contained in axis"
     ]
    }
   ],
   "source": [
    "# Anything with more than  null values is dropped immediately \n",
    "df.drop(['Battery description','Water pressure resistance','Material','Height','Item Length','Metal stamp','Length','Part Number'],axis =1,inplace = True)"
   ]
  },
  {
   "cell_type": "code",
   "execution_count": 369,
   "metadata": {
    "collapsed": false
   },
   "outputs": [
    {
     "data": {
      "text/plain": [
       "(4957, 20)"
      ]
     },
     "execution_count": 369,
     "metadata": {},
     "output_type": "execute_result"
    }
   ],
   "source": [
    "df.shape"
   ]
  },
  {
   "cell_type": "code",
   "execution_count": 370,
   "metadata": {
    "collapsed": false,
    "scrolled": true
   },
   "outputs": [
    {
     "data": {
      "text/html": [
       "<div>\n",
       "<table border=\"1\" class=\"dataframe\">\n",
       "  <thead>\n",
       "    <tr style=\"text-align: right;\">\n",
       "      <th></th>\n",
       "      <th>Band Color</th>\n",
       "      <th>Band Material</th>\n",
       "      <th>Band length</th>\n",
       "      <th>Band width</th>\n",
       "      <th>Bezel material</th>\n",
       "      <th>Brand, Seller, or Collection Name</th>\n",
       "      <th>Case Thickness</th>\n",
       "      <th>Case diameter</th>\n",
       "      <th>Case material</th>\n",
       "      <th>Clasp</th>\n",
       "      <th>Dial color</th>\n",
       "      <th>Display Type</th>\n",
       "      <th>Img_no</th>\n",
       "      <th>Item Shape</th>\n",
       "      <th>Item weight</th>\n",
       "      <th>Model Year</th>\n",
       "      <th>Model number</th>\n",
       "      <th>Part Number</th>\n",
       "      <th>Special features</th>\n",
       "      <th>Water resistant depth</th>\n",
       "    </tr>\n",
       "  </thead>\n",
       "  <tbody>\n",
       "    <tr>\n",
       "      <th>0</th>\n",
       "      <td>Black</td>\n",
       "      <td>Resin</td>\n",
       "      <td>Men's Standard</td>\n",
       "      <td>22 millimeters</td>\n",
       "      <td>Resin</td>\n",
       "      <td>Casio</td>\n",
       "      <td>12 millimeters</td>\n",
       "      <td>43 millimeters</td>\n",
       "      <td>Resin</td>\n",
       "      <td>Buckle</td>\n",
       "      <td>Black</td>\n",
       "      <td>Analog</td>\n",
       "      <td>0</td>\n",
       "      <td>Round</td>\n",
       "      <td>2.08 Ounces</td>\n",
       "      <td>2014</td>\n",
       "      <td>MRW200H-1BV</td>\n",
       "      <td>MRW200H-1BV</td>\n",
       "      <td>Water Resistant</td>\n",
       "      <td>330 Feet</td>\n",
       "    </tr>\n",
       "    <tr>\n",
       "      <th>1</th>\n",
       "      <td>Black</td>\n",
       "      <td>Calfskin</td>\n",
       "      <td>Mens Standard</td>\n",
       "      <td>18 millimeters</td>\n",
       "      <td>Brass</td>\n",
       "      <td>Timex</td>\n",
       "      <td>8 millimeters</td>\n",
       "      <td>35 millimeters</td>\n",
       "      <td>Brass</td>\n",
       "      <td>Buckle</td>\n",
       "      <td>White</td>\n",
       "      <td>Analog</td>\n",
       "      <td>1</td>\n",
       "      <td>Round</td>\n",
       "      <td>1.44 Ounces</td>\n",
       "      <td>2009</td>\n",
       "      <td>T2H281</td>\n",
       "      <td>T2H2819J</td>\n",
       "      <td>measures-seconds, Light</td>\n",
       "      <td>99 Feet</td>\n",
       "    </tr>\n",
       "    <tr>\n",
       "      <th>2</th>\n",
       "      <td>Black</td>\n",
       "      <td>Resin</td>\n",
       "      <td>mens</td>\n",
       "      <td>18 millimeters</td>\n",
       "      <td>Plastic</td>\n",
       "      <td>Casio</td>\n",
       "      <td>8 millimeters</td>\n",
       "      <td>35 millimeters</td>\n",
       "      <td>Plastic</td>\n",
       "      <td>Buckle</td>\n",
       "      <td>White</td>\n",
       "      <td>Analog</td>\n",
       "      <td>2</td>\n",
       "      <td>Round</td>\n",
       "      <td>18.14 Grams</td>\n",
       "      <td>2014</td>\n",
       "      <td>MQ24-7B2</td>\n",
       "      <td>MQ24-7B2</td>\n",
       "      <td>Water Resistant</td>\n",
       "      <td>NaN</td>\n",
       "    </tr>\n",
       "    <tr>\n",
       "      <th>3</th>\n",
       "      <td>Black</td>\n",
       "      <td>Resin</td>\n",
       "      <td>mens</td>\n",
       "      <td>20 millimeters</td>\n",
       "      <td>Resin</td>\n",
       "      <td>Casio</td>\n",
       "      <td>7.8 millimeters</td>\n",
       "      <td>35 millimeters</td>\n",
       "      <td>Resin</td>\n",
       "      <td>Buckle</td>\n",
       "      <td>White</td>\n",
       "      <td>Analog</td>\n",
       "      <td>3</td>\n",
       "      <td>Round</td>\n",
       "      <td>NaN</td>\n",
       "      <td>NaN</td>\n",
       "      <td>MQ24-7B</td>\n",
       "      <td>MQ24-7B</td>\n",
       "      <td>Water Resistant</td>\n",
       "      <td>50</td>\n",
       "    </tr>\n",
       "    <tr>\n",
       "      <th>4</th>\n",
       "      <td>Biege</td>\n",
       "      <td>Nylon</td>\n",
       "      <td>Mens-Standard</td>\n",
       "      <td>20 millimeters</td>\n",
       "      <td>Stainless Steel</td>\n",
       "      <td>Casio</td>\n",
       "      <td>11 millimeters</td>\n",
       "      <td>41 millimeters</td>\n",
       "      <td>Resin</td>\n",
       "      <td>Buckle</td>\n",
       "      <td>Beige</td>\n",
       "      <td>Analog</td>\n",
       "      <td>4</td>\n",
       "      <td>Round</td>\n",
       "      <td>16 Ounces</td>\n",
       "      <td>2014</td>\n",
       "      <td>FT-500WC-5BVCF</td>\n",
       "      <td>FT-500WC-5BVCF</td>\n",
       "      <td>Luminous</td>\n",
       "      <td>330 Feet</td>\n",
       "    </tr>\n",
       "  </tbody>\n",
       "</table>\n",
       "</div>"
      ],
      "text/plain": [
       "  Band Color Band Material     Band length      Band width   Bezel material  \\\n",
       "0      Black         Resin  Men's Standard  22 millimeters            Resin   \n",
       "1      Black      Calfskin   Mens Standard  18 millimeters            Brass   \n",
       "2      Black         Resin            mens  18 millimeters          Plastic   \n",
       "3      Black         Resin            mens  20 millimeters            Resin   \n",
       "4      Biege         Nylon   Mens-Standard  20 millimeters  Stainless Steel   \n",
       "\n",
       "  Brand, Seller, or Collection Name   Case Thickness   Case diameter  \\\n",
       "0                             Casio   12 millimeters  43 millimeters   \n",
       "1                             Timex    8 millimeters  35 millimeters   \n",
       "2                             Casio    8 millimeters  35 millimeters   \n",
       "3                             Casio  7.8 millimeters  35 millimeters   \n",
       "4                             Casio   11 millimeters  41 millimeters   \n",
       "\n",
       "  Case material   Clasp Dial color Display Type  Img_no Item Shape  \\\n",
       "0         Resin  Buckle      Black       Analog       0      Round   \n",
       "1         Brass  Buckle      White       Analog       1      Round   \n",
       "2       Plastic  Buckle      White       Analog       2      Round   \n",
       "3         Resin  Buckle      White       Analog       3      Round   \n",
       "4         Resin  Buckle      Beige       Analog       4      Round   \n",
       "\n",
       "   Item weight Model Year    Model number     Part Number  \\\n",
       "0  2.08 Ounces       2014     MRW200H-1BV     MRW200H-1BV   \n",
       "1  1.44 Ounces       2009          T2H281        T2H2819J   \n",
       "2  18.14 Grams       2014        MQ24-7B2        MQ24-7B2   \n",
       "3          NaN        NaN         MQ24-7B         MQ24-7B   \n",
       "4    16 Ounces       2014  FT-500WC-5BVCF  FT-500WC-5BVCF   \n",
       "\n",
       "          Special features Water resistant depth  \n",
       "0          Water Resistant              330 Feet  \n",
       "1  measures-seconds, Light               99 Feet  \n",
       "2          Water Resistant                   NaN  \n",
       "3          Water Resistant                    50  \n",
       "4                 Luminous              330 Feet  "
      ]
     },
     "execution_count": 370,
     "metadata": {},
     "output_type": "execute_result"
    }
   ],
   "source": [
    "df.head()"
   ]
  },
  {
   "cell_type": "code",
   "execution_count": 409,
   "metadata": {
    "collapsed": false
   },
   "outputs": [],
   "source": [
    "#Remove part number\n",
    "df.drop(['Part Number'],axis =1,inplace = True)"
   ]
  },
  {
   "cell_type": "code",
   "execution_count": 411,
   "metadata": {
    "collapsed": false
   },
   "outputs": [
    {
     "name": "stdout",
     "output_type": "stream",
     "text": [
      "Index([                       u'Band Color',\n",
      "                           u'Band Material',\n",
      "                             u'Band length',\n",
      "                              u'Band width',\n",
      "                          u'Bezel material',\n",
      "       u'Brand, Seller, or Collection Name',\n",
      "                          u'Case Thickness',\n",
      "                           u'Case diameter',\n",
      "                           u'Case material',\n",
      "                                   u'Clasp',\n",
      "                              u'Dial color',\n",
      "                            u'Display Type',\n",
      "                                  u'Img_no',\n",
      "                              u'Item Shape',\n",
      "                             u'Item weight',\n",
      "                              u'Model Year',\n",
      "                            u'Model number',\n",
      "                        u'Special features',\n",
      "                   u'Water resistant depth'],\n",
      "      dtype='object')\n"
     ]
    },
    {
     "data": {
      "text/plain": [
       "(4957, 19)"
      ]
     },
     "execution_count": 411,
     "metadata": {},
     "output_type": "execute_result"
    }
   ],
   "source": [
    "print df.columns\n",
    "df.shape"
   ]
  },
  {
   "cell_type": "code",
   "execution_count": 378,
   "metadata": {
    "collapsed": false
   },
   "outputs": [
    {
     "data": {
      "text/plain": [
       "array([u'Buckle', nan, u'Hook-and-loop', u'fold-over-push-button-clasp',\n",
       "       u'Deployant-clasp', u'deployant-clasp',\n",
       "       u'Fold Over Push Button Clasp With Safety', u'Expansion-band',\n",
       "       u'double-locking-fold-over', u'single-locking-fold-over',\n",
       "       u'deployant-clasp-with-push-button',\n",
       "       u'hidden-push-button-fold-over-clasp',\n",
       "       u'Fold-over-clasp-with-push-button',\n",
       "       u'deployant-push-button-clasp-with-buckle', u'Hook Buckle',\n",
       "       u'deployant-buckle', u'Deployant-clasp-with-push-button',\n",
       "       u'Fold-over-clasp-with-hidden-double-push-button',\n",
       "       u'buckle closure', u'Push button deployment',\n",
       "       u'fold-over-clasp-with-double-push-button', u'Deployment',\n",
       "       u'Foldover with Safety', u'Pin Buckle', u'fold-over',\n",
       "       u'Fold-over Clasp', u'SIZING CLASP SYSTEM',\n",
       "       u'Fold Over Clasp with Safety', u'Fold Over Clasp With Safety',\n",
       "       u'hook-clasp', u'push-button-fold-over-clasp',\n",
       "       u'Deployment-buckle-with-push-button',\n",
       "       u'fold-over-clasp-with-double-push-button-and-safety',\n",
       "       u'deployent-clasp-with-push-button', u'double-locking-clasp',\n",
       "       u'fold over clasp with double push button', u'deployent-clasp',\n",
       "       u'leather-deployment-buckle-with-double-push-button',\n",
       "       u'fold-over-buckle-with-hidden-double-push-button',\n",
       "       u'jpush-button-clasp', u'Deployant-buckle', u'Fancy Clasp',\n",
       "       u'snap-clasp', u'Fold-over-push-button-clasp-with-safety',\n",
       "       u'No Clasp', u'Fold Over with Safety',\n",
       "       u'deployment-clasp-with-double-push-button',\n",
       "       u'buckle-clasp-with-safety', u'fold-over-clasp-with-push-button',\n",
       "       u'Deployment Buckle', u'invisable-double-locking',\n",
       "       u'Fold Over Clasp with Double Push Button Safety', u'Safety',\n",
       "       u'invisible-double-locking', u'tang-buckle', u'fold-ocer-clasp',\n",
       "       u'buckle-clasp',\n",
       "       u'Made of stainless steel for durability, not Alloy',\n",
       "       u'Deployment push-button clasp with buckle', u'Push-button-clasp',\n",
       "       u'Fold Over Clasp With Double Push Button Safety',\n",
       "       u'Fold Over Clasp', u'Velcro', u'Double lock',\n",
       "       u'fold -clasp-with-double-push-button-safety',\n",
       "       u'Deployment clasp with push-button', u'Deployment Clasp',\n",
       "       u'fold-over-clasp-with-push-button.', u'Buckle deployment clasp',\n",
       "       u'leather-deployant-buckle', u'Invasible-double-locking',\n",
       "       u'Push-Button Deployment Clasp',\n",
       "       u'Push-Button Foldover with Safety',\n",
       "       u'Deployant Push Button Clasp With Buckle',\n",
       "       u'Double Button Deployment with Fold Over Clasp and Safety Catch',\n",
       "       u'Foldover buckle', u'Jewelry-clasp', u'Hidden', u'Fold-over',\n",
       "       u'Push-Button Foldover', u'Fold over clasp', u'Fold Over',\n",
       "       u'Deployant', u'JEWELRY CLASP',\n",
       "       u\"A vision of style and sophistication, we think you are going to be an instant fan of the Bulova Men's Dress Classic Watch. This exceptional timepiece begins with a 38mm stainless steel case with a fixed bezel and a textured crown. These elements surround a bold black dial, which is protected by a hardened mineral crystal and features silver-toned index hour markers and luminous silver-toned hands powered by Japanese quartz movement. The dial also features a date display window at the 3 'o clock position. A three-link stainless steel bracelet straps this watch to the wrist, while a fold-over double push-button safety clasp ensures its secure placement. Finally, this watch boasts water resistance up to 99 feet (30 meters). Truly a must-have for your watch collection, pick this beauty up today.\",\n",
       "       u'Leather Deployment Buckle with Safety', u'Push Button Deployment',\n",
       "       u'double-fold-over-clasp-with-safety',\n",
       "       u'Fold-over-clasp-with-single-push-button-safety',\n",
       "       u'Fold Over Clasp with push button',\n",
       "       u'Fold Over Safety Push Button',\n",
       "       u'Push button deployment with safety', u'Sliding Clasp with Safety',\n",
       "       u'Tang Clasp', u'Push Button Deployment Clasp', u'FOLDOVER CLASP',\n",
       "       u'Fold Over Butterfly Clasp',\n",
       "       u'Double Button Deployment with Fold Over Catch',\n",
       "       u'Deployant buckle', u'Adjustable sliding clasp', u'Double Locking',\n",
       "       u'deployant-clasp-with-double-push-button',\n",
       "       u'fold over clasp with double push button safety', u'Butterfly',\n",
       "       u'Clasp', u'DOUBLE FOLDING CLASP WITH SAFETY', u'Locking',\n",
       "       u'buckles', u'fold-over-push-button-clasp-with-double-push-button',\n",
       "       u'Deployment Clasp with Push Button', u'One-touch, 3-fold buckle',\n",
       "       u'Push-button', u'fold-over-clasp-with-push-button-safety.',\n",
       "       u'Foldover', u'Push Button Clasps', u'fold over clasp',\n",
       "       u'Fold over', u'Deployment with Push Button'], dtype=object)"
      ]
     },
     "execution_count": 378,
     "metadata": {},
     "output_type": "execute_result"
    }
   ],
   "source": [
    "df['Clasp'].unique() #Length is 118"
   ]
  },
  {
   "cell_type": "code",
   "execution_count": null,
   "metadata": {
    "collapsed": true
   },
   "outputs": [],
   "source": []
  },
  {
   "cell_type": "code",
   "execution_count": null,
   "metadata": {
    "collapsed": true
   },
   "outputs": [],
   "source": []
  },
  {
   "cell_type": "code",
   "execution_count": null,
   "metadata": {
    "collapsed": true
   },
   "outputs": [],
   "source": []
  },
  {
   "cell_type": "code",
   "execution_count": null,
   "metadata": {
    "collapsed": true
   },
   "outputs": [],
   "source": []
  },
  {
   "cell_type": "code",
   "execution_count": null,
   "metadata": {
    "collapsed": true
   },
   "outputs": [],
   "source": []
  },
  {
   "cell_type": "code",
   "execution_count": null,
   "metadata": {
    "collapsed": true
   },
   "outputs": [],
   "source": []
  },
  {
   "cell_type": "code",
   "execution_count": null,
   "metadata": {
    "collapsed": true
   },
   "outputs": [],
   "source": []
  },
  {
   "cell_type": "code",
   "execution_count": 170,
   "metadata": {
    "collapsed": false
   },
   "outputs": [],
   "source": [
    "len_max_ind = 0 # index of element with Max Length of table\n",
    "len_max = 0 # max length\n",
    "ind = [] # All the indexes with max length to compare if table has same c\n",
    "# Getting the table with max components to be used to derive the table contents. The one which has the max\n",
    "\n",
    "for i,result in enumerate(results):\n",
    "    if len(result[1]) > len_max :\n",
    "        len_max = len(result[1])\n",
    "        len_max_index = i\n",
    "        \n",
    "    elif  (len(result[1]) == len_max):\n",
    "        ind.append((i,len_max))\n",
    "        \n",
    "    else:\n",
    "        pass"
   ]
  },
  {
   "cell_type": "code",
   "execution_count": 178,
   "metadata": {
    "collapsed": false
   },
   "outputs": [
    {
     "name": "stdout",
     "output_type": "stream",
     "text": [
      "1213 25\n",
      "[(1, 23), (3, 23), (5, 23), (14, 24), (31, 24), (43, 24), (44, 24), (63, 24), (68, 24), (69, 24), (81, 24), (85, 24), (89, 24), (94, 24), (108, 24), (115, 24), (119, 24), (122, 24), (152, 24), (168, 24), (179, 24), (193, 24), (199, 24), (254, 24), (270, 24), (272, 24), (284, 24), (302, 24), (314, 24), (343, 24), (360, 24), (401, 24), (408, 24), (412, 24), (420, 24), (428, 24), (435, 24), (439, 24), (457, 24), (485, 24), (503, 24), (510, 24), (546, 24), (550, 24), (574, 24), (619, 24), (621, 24), (635, 24), (658, 24), (661, 24), (695, 24), (699, 24), (727, 24), (737, 24), (743, 24), (744, 24), (748, 24), (828, 24), (834, 24), (845, 24), (862, 24), (863, 24), (872, 24), (874, 24), (905, 24), (906, 24), (911, 24), (917, 24), (959, 24), (963, 24), (973, 24), (974, 24), (1036, 24), (1071, 24), (1078, 24), (1087, 24), (1088, 24), (1093, 24), (1127, 24), (1134, 24), (1137, 24), (1142, 24), (1156, 24), (1157, 24), (1158, 24), (1159, 24), (1181, 24), (1206, 24), (1212, 24)]\n"
     ]
    }
   ],
   "source": [
    "print len_max_index,len_max\n",
    "print ind"
   ]
  },
  {
   "cell_type": "markdown",
   "metadata": {
    "collapsed": false
   },
   "source": [
    "We can see above that  index 1213 has the largest number of table contents we'll focus on that to get the \n",
    "table contents"
   ]
  },
  {
   "cell_type": "code",
   "execution_count": 224,
   "metadata": {
    "collapsed": false,
    "scrolled": false
   },
   "outputs": [
    {
     "data": {
      "text/plain": [
       "[\"(u'Brand, Seller, or Collection Name'\",\n",
       " \"(u'Model number'\",\n",
       " \"(u'Part Number'\",\n",
       " \"(u'Model Year'\",\n",
       " \"(u'Item Shape'\",\n",
       " \"(u'Dial window material type\\\\ufeff'\",\n",
       " \"(u'Display Type'\",\n",
       " \"(u'Clasp'\",\n",
       " \"(u'Metal stamp'\",\n",
       " \"(u'Case material'\",\n",
       " \"(u'Case diameter'\",\n",
       " \"(u'Case Thickness'\",\n",
       " \"(u'Band Material'\",\n",
       " \"(u'Band length'\",\n",
       " \"(u'Band width'\",\n",
       " \"(u'Band Color'\",\n",
       " \"(u'Dial color'\",\n",
       " \"(u'Bezel material'\",\n",
       " \"(u'Bezel function\\\\ufeff'\",\n",
       " \"(u'Calendar\\\\ufeff'\",\n",
       " \"(u'Special features'\",\n",
       " \"(u'Item weight'\",\n",
       " \"(u'Movement\\\\ufeff'\",\n",
       " \"(u'Water pressure resistance'\",\n",
       " \"(u'Water resistant depth'\"]"
      ]
     },
     "execution_count": 224,
     "metadata": {},
     "output_type": "execute_result"
    }
   ],
   "source": [
    "#Extracting the Column names\n",
    "prod_table = (results[1213][1])\n",
    "products = []\n",
    "column_names = []\n",
    "for i in prod_table:\n",
    "    column_names.append(str(i.rsplit(', u')[0]))\n",
    "    products.append(i.rsplit(', u')[1])\n",
    "column_names"
   ]
  },
  {
   "cell_type": "markdown",
   "metadata": {
    "collapsed": true
   },
   "source": [
    "column_names"
   ]
  },
  {
   "cell_type": "code",
   "execution_count": 221,
   "metadata": {
    "collapsed": false
   },
   "outputs": [],
   "source": [
    "columns = []\n",
    "for col in column_names:\n",
    "    columns.append(((col.replace(\"(\",\"\")).replace(\"u'\",\"\")).replace(\"'\",\"\"))"
   ]
  },
  {
   "cell_type": "code",
   "execution_count": 222,
   "metadata": {
    "collapsed": false
   },
   "outputs": [
    {
     "data": {
      "text/plain": [
       "['Brand, Seller, or Collection Name',\n",
       " 'Model number',\n",
       " 'Part Number',\n",
       " 'Model Year',\n",
       " 'Item Shape',\n",
       " 'Dial window material type\\\\ufeff',\n",
       " 'Display Type',\n",
       " 'Clasp',\n",
       " 'Metal stamp',\n",
       " 'Case material',\n",
       " 'Case diameter',\n",
       " 'Case Thickness',\n",
       " 'Band Material',\n",
       " 'Band length',\n",
       " 'Band width',\n",
       " 'Band Color',\n",
       " 'Dial color',\n",
       " 'Bezel material',\n",
       " 'Bezel function\\\\ufeff',\n",
       " 'Calendar\\\\ufeff',\n",
       " 'Special features',\n",
       " 'Item weight',\n",
       " 'Movement\\\\ufeff',\n",
       " 'Water pressure resistance',\n",
       " 'Water resistant depth']"
      ]
     },
     "execution_count": 222,
     "metadata": {},
     "output_type": "execute_result"
    }
   ],
   "source": [
    "columns"
   ]
  },
  {
   "cell_type": "code",
   "execution_count": 225,
   "metadata": {
    "collapsed": false
   },
   "outputs": [
    {
     "data": {
      "text/plain": [
       "[u\"'Citizen')\",\n",
       " u\"'AT4004-52E')\",\n",
       " u\"'AT4004-52E')\",\n",
       " u\"'2011')\",\n",
       " u\"'Round')\",\n",
       " u\"'Anti reflective sapphire')\",\n",
       " u\"'Analog')\",\n",
       " u\"'Fold-Over Clasp with Hidden Double Push-Button\\\\ufeff')\",\n",
       " u\"'None')\",\n",
       " u\"'Stainless steel')\",\n",
       " u\"'42 millimeters')\",\n",
       " u\"'13 millimeters')\",\n",
       " u\"'Two-tone stainless steel')\",\n",
       " u'\"Men\\'s Standard\")',\n",
       " u\"'24 millimeters')\",\n",
       " u\"'Silver')\",\n",
       " u\"'Black')\",\n",
       " u\"'Stainless steel')\",\n",
       " u\"'Stationary')\",\n",
       " u\"'Perpetual calendar')\",\n",
       " u\"'Radio controlled, Chronograph, Luminous, Stop watch, Tachometer')\",\n",
       " u\"'6.24 Ounces')\",\n",
       " u\"'Japanese quartz')\",\n",
       " u\"'20 bar')\",\n",
       " u\"'660 Feet')\"]"
      ]
     },
     "execution_count": 225,
     "metadata": {},
     "output_type": "execute_result"
    }
   ],
   "source": [
    "products"
   ]
  },
  {
   "cell_type": "code",
   "execution_count": 315,
   "metadata": {
    "collapsed": false
   },
   "outputs": [
    {
     "ename": "ValueError",
     "evalue": "If using all scalar values, you must pass an index",
     "output_type": "error",
     "traceback": [
      "\u001b[0;31m---------------------------------------------------------------------------\u001b[0m",
      "\u001b[0;31mValueError\u001b[0m                                Traceback (most recent call last)",
      "\u001b[0;32m<ipython-input-315-83271428d3e9>\u001b[0m in \u001b[0;36m<module>\u001b[0;34m()\u001b[0m\n\u001b[0;32m----> 1\u001b[0;31m \u001b[0mpd\u001b[0m\u001b[0;34m.\u001b[0m\u001b[0mDataFrame\u001b[0m\u001b[0;34m(\u001b[0m\u001b[0mresults\u001b[0m\u001b[0;34m[\u001b[0m\u001b[0;36m1\u001b[0m\u001b[0;34m]\u001b[0m\u001b[0;34m[\u001b[0m\u001b[0;36m1\u001b[0m\u001b[0;34m]\u001b[0m\u001b[0;34m)\u001b[0m\u001b[0;34m\u001b[0m\u001b[0m\n\u001b[0m",
      "\u001b[0;32m/Users/Iskandar/anaconda/lib/python2.7/site-packages/pandas/core/frame.pyc\u001b[0m in \u001b[0;36m__init__\u001b[0;34m(self, data, index, columns, dtype, copy)\u001b[0m\n\u001b[1;32m    224\u001b[0m                                  dtype=dtype, copy=copy)\n\u001b[1;32m    225\u001b[0m         \u001b[0;32melif\u001b[0m \u001b[0misinstance\u001b[0m\u001b[0;34m(\u001b[0m\u001b[0mdata\u001b[0m\u001b[0;34m,\u001b[0m \u001b[0mdict\u001b[0m\u001b[0;34m)\u001b[0m\u001b[0;34m:\u001b[0m\u001b[0;34m\u001b[0m\u001b[0m\n\u001b[0;32m--> 226\u001b[0;31m             \u001b[0mmgr\u001b[0m \u001b[0;34m=\u001b[0m \u001b[0mself\u001b[0m\u001b[0;34m.\u001b[0m\u001b[0m_init_dict\u001b[0m\u001b[0;34m(\u001b[0m\u001b[0mdata\u001b[0m\u001b[0;34m,\u001b[0m \u001b[0mindex\u001b[0m\u001b[0;34m,\u001b[0m \u001b[0mcolumns\u001b[0m\u001b[0;34m,\u001b[0m \u001b[0mdtype\u001b[0m\u001b[0;34m=\u001b[0m\u001b[0mdtype\u001b[0m\u001b[0;34m)\u001b[0m\u001b[0;34m\u001b[0m\u001b[0m\n\u001b[0m\u001b[1;32m    227\u001b[0m         \u001b[0;32melif\u001b[0m \u001b[0misinstance\u001b[0m\u001b[0;34m(\u001b[0m\u001b[0mdata\u001b[0m\u001b[0;34m,\u001b[0m \u001b[0mma\u001b[0m\u001b[0;34m.\u001b[0m\u001b[0mMaskedArray\u001b[0m\u001b[0;34m)\u001b[0m\u001b[0;34m:\u001b[0m\u001b[0;34m\u001b[0m\u001b[0m\n\u001b[1;32m    228\u001b[0m             \u001b[0;32mimport\u001b[0m \u001b[0mnumpy\u001b[0m\u001b[0;34m.\u001b[0m\u001b[0mma\u001b[0m\u001b[0;34m.\u001b[0m\u001b[0mmrecords\u001b[0m \u001b[0;32mas\u001b[0m \u001b[0mmrecords\u001b[0m\u001b[0;34m\u001b[0m\u001b[0m\n",
      "\u001b[0;32m/Users/Iskandar/anaconda/lib/python2.7/site-packages/pandas/core/frame.pyc\u001b[0m in \u001b[0;36m_init_dict\u001b[0;34m(self, data, index, columns, dtype)\u001b[0m\n\u001b[1;32m    361\u001b[0m \u001b[0;34m\u001b[0m\u001b[0m\n\u001b[1;32m    362\u001b[0m         return _arrays_to_mgr(arrays, data_names, index, columns,\n\u001b[0;32m--> 363\u001b[0;31m                               dtype=dtype)\n\u001b[0m\u001b[1;32m    364\u001b[0m \u001b[0;34m\u001b[0m\u001b[0m\n\u001b[1;32m    365\u001b[0m     def _init_ndarray(self, values, index, columns, dtype=None,\n",
      "\u001b[0;32m/Users/Iskandar/anaconda/lib/python2.7/site-packages/pandas/core/frame.pyc\u001b[0m in \u001b[0;36m_arrays_to_mgr\u001b[0;34m(arrays, arr_names, index, columns, dtype)\u001b[0m\n\u001b[1;32m   5156\u001b[0m     \u001b[0;31m# figure out the index, if necessary\u001b[0m\u001b[0;34m\u001b[0m\u001b[0;34m\u001b[0m\u001b[0m\n\u001b[1;32m   5157\u001b[0m     \u001b[0;32mif\u001b[0m \u001b[0mindex\u001b[0m \u001b[0;32mis\u001b[0m \u001b[0mNone\u001b[0m\u001b[0;34m:\u001b[0m\u001b[0;34m\u001b[0m\u001b[0m\n\u001b[0;32m-> 5158\u001b[0;31m         \u001b[0mindex\u001b[0m \u001b[0;34m=\u001b[0m \u001b[0mextract_index\u001b[0m\u001b[0;34m(\u001b[0m\u001b[0marrays\u001b[0m\u001b[0;34m)\u001b[0m\u001b[0;34m\u001b[0m\u001b[0m\n\u001b[0m\u001b[1;32m   5159\u001b[0m     \u001b[0;32melse\u001b[0m\u001b[0;34m:\u001b[0m\u001b[0;34m\u001b[0m\u001b[0m\n\u001b[1;32m   5160\u001b[0m         \u001b[0mindex\u001b[0m \u001b[0;34m=\u001b[0m \u001b[0m_ensure_index\u001b[0m\u001b[0;34m(\u001b[0m\u001b[0mindex\u001b[0m\u001b[0;34m)\u001b[0m\u001b[0;34m\u001b[0m\u001b[0m\n",
      "\u001b[0;32m/Users/Iskandar/anaconda/lib/python2.7/site-packages/pandas/core/frame.pyc\u001b[0m in \u001b[0;36mextract_index\u001b[0;34m(data)\u001b[0m\n\u001b[1;32m   5195\u001b[0m \u001b[0;34m\u001b[0m\u001b[0m\n\u001b[1;32m   5196\u001b[0m         \u001b[0;32mif\u001b[0m \u001b[0;32mnot\u001b[0m \u001b[0mindexes\u001b[0m \u001b[0;32mand\u001b[0m \u001b[0;32mnot\u001b[0m \u001b[0mraw_lengths\u001b[0m\u001b[0;34m:\u001b[0m\u001b[0;34m\u001b[0m\u001b[0m\n\u001b[0;32m-> 5197\u001b[0;31m             raise ValueError('If using all scalar values, you must pass'\n\u001b[0m\u001b[1;32m   5198\u001b[0m                              ' an index')\n\u001b[1;32m   5199\u001b[0m \u001b[0;34m\u001b[0m\u001b[0m\n",
      "\u001b[0;31mValueError\u001b[0m: If using all scalar values, you must pass an index"
     ]
    }
   ],
   "source": [
    "pd.DataFrame(results[1][1])"
   ]
  },
  {
   "cell_type": "code",
   "execution_count": 231,
   "metadata": {
    "collapsed": false
   },
   "outputs": [
    {
     "ename": "ValueError",
     "evalue": "No JSON object could be decoded",
     "output_type": "error",
     "traceback": [
      "\u001b[0;31m---------------------------------------------------------------------------\u001b[0m",
      "\u001b[0;31mValueError\u001b[0m                                Traceback (most recent call last)",
      "\u001b[0;32m<ipython-input-231-0b8cb1460e30>\u001b[0m in \u001b[0;36m<module>\u001b[0;34m()\u001b[0m\n\u001b[1;32m      1\u001b[0m \u001b[0;32mimport\u001b[0m \u001b[0mjson\u001b[0m\u001b[0;34m\u001b[0m\u001b[0m\n\u001b[1;32m      2\u001b[0m \u001b[0;32mfor\u001b[0m \u001b[0mi\u001b[0m \u001b[0;32min\u001b[0m  \u001b[0mprod_table\u001b[0m\u001b[0;34m:\u001b[0m\u001b[0;34m\u001b[0m\u001b[0m\n\u001b[0;32m----> 3\u001b[0;31m     \u001b[0mjson\u001b[0m\u001b[0;34m.\u001b[0m\u001b[0mloads\u001b[0m\u001b[0;34m(\u001b[0m\u001b[0mi\u001b[0m\u001b[0;34m)\u001b[0m\u001b[0;34m\u001b[0m\u001b[0m\n\u001b[0m",
      "\u001b[0;32m/Users/Iskandar/anaconda/lib/python2.7/json/__init__.pyc\u001b[0m in \u001b[0;36mloads\u001b[0;34m(s, encoding, cls, object_hook, parse_float, parse_int, parse_constant, object_pairs_hook, **kw)\u001b[0m\n\u001b[1;32m    337\u001b[0m             \u001b[0mparse_int\u001b[0m \u001b[0;32mis\u001b[0m \u001b[0mNone\u001b[0m \u001b[0;32mand\u001b[0m \u001b[0mparse_float\u001b[0m \u001b[0;32mis\u001b[0m \u001b[0mNone\u001b[0m \u001b[0;32mand\u001b[0m\u001b[0;34m\u001b[0m\u001b[0m\n\u001b[1;32m    338\u001b[0m             parse_constant is None and object_pairs_hook is None and not kw):\n\u001b[0;32m--> 339\u001b[0;31m         \u001b[0;32mreturn\u001b[0m \u001b[0m_default_decoder\u001b[0m\u001b[0;34m.\u001b[0m\u001b[0mdecode\u001b[0m\u001b[0;34m(\u001b[0m\u001b[0ms\u001b[0m\u001b[0;34m)\u001b[0m\u001b[0;34m\u001b[0m\u001b[0m\n\u001b[0m\u001b[1;32m    340\u001b[0m     \u001b[0;32mif\u001b[0m \u001b[0mcls\u001b[0m \u001b[0;32mis\u001b[0m \u001b[0mNone\u001b[0m\u001b[0;34m:\u001b[0m\u001b[0;34m\u001b[0m\u001b[0m\n\u001b[1;32m    341\u001b[0m         \u001b[0mcls\u001b[0m \u001b[0;34m=\u001b[0m \u001b[0mJSONDecoder\u001b[0m\u001b[0;34m\u001b[0m\u001b[0m\n",
      "\u001b[0;32m/Users/Iskandar/anaconda/lib/python2.7/json/decoder.pyc\u001b[0m in \u001b[0;36mdecode\u001b[0;34m(self, s, _w)\u001b[0m\n\u001b[1;32m    362\u001b[0m \u001b[0;34m\u001b[0m\u001b[0m\n\u001b[1;32m    363\u001b[0m         \"\"\"\n\u001b[0;32m--> 364\u001b[0;31m         \u001b[0mobj\u001b[0m\u001b[0;34m,\u001b[0m \u001b[0mend\u001b[0m \u001b[0;34m=\u001b[0m \u001b[0mself\u001b[0m\u001b[0;34m.\u001b[0m\u001b[0mraw_decode\u001b[0m\u001b[0;34m(\u001b[0m\u001b[0ms\u001b[0m\u001b[0;34m,\u001b[0m \u001b[0midx\u001b[0m\u001b[0;34m=\u001b[0m\u001b[0m_w\u001b[0m\u001b[0;34m(\u001b[0m\u001b[0ms\u001b[0m\u001b[0;34m,\u001b[0m \u001b[0;36m0\u001b[0m\u001b[0;34m)\u001b[0m\u001b[0;34m.\u001b[0m\u001b[0mend\u001b[0m\u001b[0;34m(\u001b[0m\u001b[0;34m)\u001b[0m\u001b[0;34m)\u001b[0m\u001b[0;34m\u001b[0m\u001b[0m\n\u001b[0m\u001b[1;32m    365\u001b[0m         \u001b[0mend\u001b[0m \u001b[0;34m=\u001b[0m \u001b[0m_w\u001b[0m\u001b[0;34m(\u001b[0m\u001b[0ms\u001b[0m\u001b[0;34m,\u001b[0m \u001b[0mend\u001b[0m\u001b[0;34m)\u001b[0m\u001b[0;34m.\u001b[0m\u001b[0mend\u001b[0m\u001b[0;34m(\u001b[0m\u001b[0;34m)\u001b[0m\u001b[0;34m\u001b[0m\u001b[0m\n\u001b[1;32m    366\u001b[0m         \u001b[0;32mif\u001b[0m \u001b[0mend\u001b[0m \u001b[0;34m!=\u001b[0m \u001b[0mlen\u001b[0m\u001b[0;34m(\u001b[0m\u001b[0ms\u001b[0m\u001b[0;34m)\u001b[0m\u001b[0;34m:\u001b[0m\u001b[0;34m\u001b[0m\u001b[0m\n",
      "\u001b[0;32m/Users/Iskandar/anaconda/lib/python2.7/json/decoder.pyc\u001b[0m in \u001b[0;36mraw_decode\u001b[0;34m(self, s, idx)\u001b[0m\n\u001b[1;32m    380\u001b[0m             \u001b[0mobj\u001b[0m\u001b[0;34m,\u001b[0m \u001b[0mend\u001b[0m \u001b[0;34m=\u001b[0m \u001b[0mself\u001b[0m\u001b[0;34m.\u001b[0m\u001b[0mscan_once\u001b[0m\u001b[0;34m(\u001b[0m\u001b[0ms\u001b[0m\u001b[0;34m,\u001b[0m \u001b[0midx\u001b[0m\u001b[0;34m)\u001b[0m\u001b[0;34m\u001b[0m\u001b[0m\n\u001b[1;32m    381\u001b[0m         \u001b[0;32mexcept\u001b[0m \u001b[0mStopIteration\u001b[0m\u001b[0;34m:\u001b[0m\u001b[0;34m\u001b[0m\u001b[0m\n\u001b[0;32m--> 382\u001b[0;31m             \u001b[0;32mraise\u001b[0m \u001b[0mValueError\u001b[0m\u001b[0;34m(\u001b[0m\u001b[0;34m\"No JSON object could be decoded\"\u001b[0m\u001b[0;34m)\u001b[0m\u001b[0;34m\u001b[0m\u001b[0m\n\u001b[0m\u001b[1;32m    383\u001b[0m         \u001b[0;32mreturn\u001b[0m \u001b[0mobj\u001b[0m\u001b[0;34m,\u001b[0m \u001b[0mend\u001b[0m\u001b[0;34m\u001b[0m\u001b[0m\n",
      "\u001b[0;31mValueError\u001b[0m: No JSON object could be decoded"
     ]
    }
   ],
   "source": [
    "import json\n",
    "for i in  prod_table:\n",
    "    json.loads(i)"
   ]
  },
  {
   "cell_type": "code",
   "execution_count": 247,
   "metadata": {
    "collapsed": true
   },
   "outputs": [],
   "source": [
    "db2 = client.images2\n",
    "col2 = db2.image_data\n",
    "\n"
   ]
  },
  {
   "cell_type": "code",
   "execution_count": 248,
   "metadata": {
    "collapsed": false
   },
   "outputs": [],
   "source": [
    "x = col2.find_one()['prod_info_table']"
   ]
  },
  {
   "cell_type": "code",
   "execution_count": 249,
   "metadata": {
    "collapsed": false
   },
   "outputs": [
    {
     "name": "stdout",
     "output_type": "stream",
     "text": [
      "[u'Brand, Seller, or Collection Name']\n",
      "[u'Model number']\n",
      "[u'Part Number']\n",
      "[u'Model Year']\n",
      "[u'Item Shape']\n",
      "[u'Display Type']\n",
      "[u'Clasp']\n",
      "[u'Case material']\n",
      "[u'Case diameter']\n",
      "[u'Case Thickness']\n",
      "[u'Band Material']\n",
      "[u'Band length']\n",
      "[u'Band width']\n",
      "[u'Band Color']\n",
      "[u'Dial color']\n",
      "[u'Bezel material']\n",
      "[u'Special features']\n",
      "[u'Item weight']\n",
      "[u'Water resistant depth']\n"
     ]
    }
   ],
   "source": [
    "for i in x:\n",
    "    print i.keys()\n",
    "    "
   ]
  },
  {
   "cell_type": "code",
   "execution_count": null,
   "metadata": {
    "collapsed": true
   },
   "outputs": [],
   "source": []
  }
 ],
 "metadata": {
  "kernelspec": {
   "display_name": "Python 2",
   "language": "python",
   "name": "python2"
  },
  "language_info": {
   "codemirror_mode": {
    "name": "ipython",
    "version": 2
   },
   "file_extension": ".py",
   "mimetype": "text/x-python",
   "name": "python",
   "nbconvert_exporter": "python",
   "pygments_lexer": "ipython2",
   "version": "2.7.11"
  }
 },
 "nbformat": 4,
 "nbformat_minor": 0
}
